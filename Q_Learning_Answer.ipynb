{
  "cells": [
    {
      "cell_type": "markdown",
      "metadata": {
        "id": "view-in-github",
        "colab_type": "text"
      },
      "source": [
        "<a href=\"https://colab.research.google.com/github/bysandychoi/RL_2022_edu/blob/main/Q_Learning_Answer.ipynb\" target=\"_parent\"><img src=\"https://colab.research.google.com/assets/colab-badge.svg\" alt=\"Open In Colab\"/></a>"
      ]
    },
    {
      "cell_type": "markdown",
      "source": [
        "먼저 실습에 필요한 library들을 설치합니다."
      ],
      "metadata": {
        "id": "Lzb7v0LbHAaQ"
      }
    },
    {
      "cell_type": "code",
      "source": [
        "!pip install gym==0.22 pyvirtualdisplay pygame\n",
        "!apt-get install -y xvfb python-opengl ffmpeg"
      ],
      "metadata": {
        "id": "XJEOEwCMvF4h"
      },
      "execution_count": null,
      "outputs": []
    },
    {
      "cell_type": "markdown",
      "source": [
        "Visualization을 위한 코드입니다."
      ],
      "metadata": {
        "id": "pAffyNNqT7OO"
      }
    },
    {
      "cell_type": "markdown",
      "source": [
        "<div class=\"markdown-google-sans\">\n",
        "  <h1>Colab이란?</h1>\n",
        "</div>\n",
        "\n",
        "Colaboratory&#40;줄여서 'Colab'이라고 함&#41;을 통해 브라우저 내에서 Python 스크립트를 작성하고 실행할 수 있습니다. \n",
        "- 구성이 필요하지 않음\n",
        "- 무료로 GPU 사용\n",
        "- 간편한 공유\n",
        "\n",
        "<strong>학생</strong>이든, <strong>데이터 과학자</strong>든, <strong>AI 연구원</strong>이든 Colab으로 업무를 더욱 간편하게 처리할 수 있습니다. <a href=\"https://www.youtube.com/watch?v=inN8seMm7UI\">Colab 소개 영상</a>에서 자세한 내용을 확인하세요.\n"
      ],
      "metadata": {
        "id": "Hvs653IeGwGR"
      }
    },
    {
      "cell_type": "code",
      "source": [
        "import glob\n",
        "import io\n",
        "import base64\n",
        "\n",
        "from gym.wrappers import Monitor\n",
        "from IPython.display import HTML\n",
        "from IPython import display as ipythondisplay\n",
        "from pyvirtualdisplay import Display\n",
        "\n",
        "display = Display(visible=0, size=(1400, 900))\n",
        "display.start()\n",
        "\n",
        "# play recorded video\n",
        "def show_video():\n",
        "    # start virtual display\n",
        "    \n",
        "    mp4list = glob.glob('video/*.mp4')\n",
        "    if len(mp4list) > 0:\n",
        "        mp4 = mp4list[0]\n",
        "        video = io.open(mp4, 'r+b').read()\n",
        "        encoded = base64.b64encode(video)\n",
        "        ipythondisplay.display(HTML(data='''\n",
        "            <video alt=\"test\" autoplay loop controls style=\"height: 400px;\">\n",
        "                <source src=\"data:video/mp4;base64,{0}\" type=\"video/mp4\" />\n",
        "            </video>'''.format(encoded.decode('ascii'))))\n",
        "    else: \n",
        "        print(\"Could not find video\")"
      ],
      "metadata": {
        "id": "UFNI_hnWGrLg",
        "colab": {
          "base_uri": "https://localhost:8080/"
        },
        "outputId": "074d8f2e-2dca-4879-dced-f3aa628fdb53"
      },
      "execution_count": null,
      "outputs": [
        {
          "output_type": "stream",
          "name": "stderr",
          "text": [
            "\n"
          ]
        }
      ]
    },
    {
      "cell_type": "markdown",
      "metadata": {
        "id": "dcy8T1EDhOAd"
      },
      "source": [
        "# OpenAI Gym\n",
        "OpenAI에서는 다양한 강화학습 알고리즘 코드나 환경들을 제공합니다.\n",
        "\n",
        "OpenAI Gym은 강화학습 환경의 표준적인 Baseline을 제공합니다. 또한 여러가지 sample 환경들을 제공합니다.\n",
        "\n",
        "이외에도 다양한 환경들이 gym style에 맟춰서 개발되므로 이에 맟춰서 코드를 작성해 하나의 알고리즘으로 다양한 환경에서 실험할 수 있습니다.\n",
        "\n",
        "https://www.gymlibrary.dev/"
      ]
    },
    {
      "cell_type": "markdown",
      "metadata": {
        "id": "B0t1nbBZhOAe"
      },
      "source": [
        "이번 실습은 Gym FrozenLake 환경에서 진행합니다. \n",
        "\n",
        "해당 환경은 아래와 같은 그림으로 설계되어있는 환경입니다. Agent가 출발지에서 시작하여 구멍을 피해 빙판길을 걸으면서 최종 목적지까지 가게 하는 것이 이번 환경에서의 목표입니다."
      ]
    },
    {
      "cell_type": "markdown",
      "metadata": {
        "id": "5rTlm4wuhOAe"
      },
      "source": [
        "![다운로드.png](data:image/png;base64,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)"
      ]
    },
    {
      "cell_type": "markdown",
      "metadata": {
        "id": "sBJbJej2hOAf"
      },
      "source": [
        "# FrozenLake\n",
        "다음은 FrozenLake 환경에서 Agent에게 주어지는 정보들에 대해 알아보겠습니다. 아래 그림은 앞써 이론 시간에 배운 강화학습의 구조도 입니다. "
      ]
    },
    {
      "cell_type": "markdown",
      "metadata": {
        "id": "kfF6T2xyhOAf"
      },
      "source": [
        "![다운로드 (2).png](data:image/png;base64,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)"
      ]
    },
    {
      "cell_type": "markdown",
      "metadata": {
        "id": "aT0Mig_1bjHS"
      },
      "source": [
        "그림에서 보시면 알 수 있듯이 agent를 학습 시키기 위해는 state, reward, action이라는 3가지 정보가 필요합니다. Frozen Lake환경에서 해당 3가지 정보가 어떻게 구성되어있는지 알아보겠습니다."
      ]
    },
    {
      "cell_type": "markdown",
      "metadata": {
        "id": "unDSrZaZhOAg"
      },
      "source": [
        "### State\n",
        "FrozenLake는 4x4 환경에서 진행됩니다. Agent가 존재 할 수 있는 16가지 위치가 state가 됩니다."
      ]
    },
    {
      "cell_type": "markdown",
      "metadata": {
        "id": "O2Y_9zW2hOAg"
      },
      "source": [
        "### Action\n",
        "FrozenLake의 Action은 상하좌우로 움직일 수 있습니다."
      ]
    },
    {
      "cell_type": "markdown",
      "metadata": {
        "id": "xVNcJnDBhOAg"
      },
      "source": [
        "### Reward\n",
        "마지막으로 reward 입니다. 목적지에 도달하면 1점을, 이외에는 0점을 얻습니다."
      ]
    },
    {
      "cell_type": "markdown",
      "metadata": {
        "id": "pqVPxMeMhOAh"
      },
      "source": [
        "본격적으로 시작하기 전에 FrozenLake-v1 환경에서 랜덤한 액션을 하는 에이전트를 실행시켜 봅시다."
      ]
    },
    {
      "cell_type": "markdown",
      "metadata": {
        "id": "JHI9AO4NhOAh"
      },
      "source": [
        "\n",
        "먼저 환경 오브젝트를 생성합니다. gym.make(환경이름)을 사용합니다.\n",
        "\n",
        "env.observation_space는 환경의 state와 관련된 정보를 가진 오브젝트입니다.\n",
        "\n",
        "env.action_space는 환경의 action과 관련된 정보를 가진 오브젝트입니다. "
      ]
    },
    {
      "cell_type": "code",
      "execution_count": null,
      "metadata": {
        "colab": {
          "base_uri": "https://localhost:8080/"
        },
        "id": "i6L0zi1jYIJr",
        "outputId": "6c967bbf-f127-48c1-ddd6-fc9a1c1ca081"
      },
      "outputs": [
        {
          "output_type": "stream",
          "name": "stdout",
          "text": [
            "Discrete(16)\n",
            "Discrete(4)\n"
          ]
        }
      ],
      "source": [
        "import gym\n",
        "\n",
        "env = gym.make(\"FrozenLake-v1\", is_slippery=False)\n",
        "\n",
        "print(env.observation_space) # 4 x 4 Grid 중 위치\n",
        "print(env.action_space) "
      ]
    },
    {
      "cell_type": "markdown",
      "metadata": {
        "id": "gFraYDmHYbwo"
      },
      "source": [
        "env.reset은 환경을 초기화하고 첫 state를 반환합니다.\n",
        "\n",
        "env.render은 환경을 visualize 해주는 함수입니다.\n",
        "\n",
        "env.action_space.sample는 action_space의 랜덤한 action을 반환합니다.\n",
        "\n",
        "env.step(action)은 해당 action을 환경에서 실행하고, obs, reward, done, info값을 받아옵니다.\n"
      ]
    },
    {
      "cell_type": "markdown",
      "metadata": {
        "id": "MDNBtEPIJgH7"
      },
      "source": [
        "\n",
        "Observation은 다음 state를 나타냅니다. (State t+1)\n",
        "\n",
        "Reward는 action을 통해 얻은 보상입니다.\n",
        "\n",
        "Done은 현제 환경이 끝났는지 여부를 알려줍니다.\n",
        "\n",
        "Info는 부가적인 정보를 담은 dict입니다. 대부분 학습에 사용되지 않습니다."
      ]
    },
    {
      "cell_type": "code",
      "execution_count": null,
      "metadata": {
        "id": "S4H-b6zhXRPA",
        "colab": {
          "base_uri": "https://localhost:8080/",
          "height": 420
        },
        "outputId": "764aae19-b13c-4ae5-f778-4c3a0ccc57e4"
      },
      "outputs": [
        {
          "output_type": "display_data",
          "data": {
            "text/plain": [
              "<IPython.core.display.HTML object>"
            ],
            "text/html": [
              "\n",
              "            <video alt=\"test\" autoplay loop controls style=\"height: 400px;\">\n",
              "                <source src=\"data:video/mp4;base64,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\" type=\"video/mp4\" />\n",
              "            </video>"
            ]
          },
          "metadata": {}
        }
      ],
      "source": [
        "from time import sleep\n",
        "import gym\n",
        "\n",
        "def random_episode(env):\n",
        "    #env.reset() -> reset environment and returns the initial state\n",
        "    state = env.reset() ###\n",
        "    done = False\n",
        "    step_count = 0\n",
        "    while not done:\n",
        "        #env.action_space.sample() -> returns random value within the action space\n",
        "        action = env.action_space.sample() ###\n",
        "        #env.step(action) -> do action in environment, returns next state, reward, done, and extra values\n",
        "        next_state, reward, done, info = env.step(action) ###\n",
        "        #set to next state\n",
        "        state = next_state ###\n",
        "\n",
        "        #env.render() -> visualizes the environment\n",
        "        env.render(mode='rgb_array')###\n",
        "\n",
        "        \n",
        "        step_count += 1\n",
        "        if step_count > 10:\n",
        "            break\n",
        "    env.close()\n",
        "    show_video()\n",
        "\n",
        "env = gym.make('FrozenLake-v1', is_slippery=False)\n",
        "env = Monitor(env, './video', force=True)\n",
        "random_episode(env)"
      ]
    },
    {
      "cell_type": "markdown",
      "metadata": {
        "id": "TCwEFNKntPgJ"
      },
      "source": [
        "# Q Learning\n",
        "본격적으로 q learning으로 학습하는 에이전트를 살펴 봅시다.\n",
        "\n",
        "$$ Q({\\small state}, {\\small action}) \\leftarrow (1 - \\alpha) Q({\\small state}, {\\small action}) + \\alpha \\Big({\\small reward} + \\gamma \\max_{a} Q({\\small next \\ state}, {\\small all \\ actions})\\Big) $$"
      ]
    },
    {
      "cell_type": "markdown",
      "metadata": {
        "id": "-1dI5VPki57-"
      },
      "source": [
        "Q Learning에서는 Agent의 Exploration을 위해 epsilon-greedy policy를 사용합니다.\n",
        "\n",
        "epsilon의 확률(낮은 확률)로 랜덤한 행동을 하고, 이외의 경우 q_table[state] 에서 가장 기댓값이 높은 액션을 하게 됩니다."
      ]
    },
    {
      "cell_type": "markdown",
      "metadata": {
        "id": "bZ44RAJgi73k"
      },
      "source": [
        " Q Learning 코드를 확인해봅시다"
      ]
    },
    {
      "cell_type": "code",
      "execution_count": null,
      "metadata": {
        "id": "9z2-l7epxkTC",
        "colab": {
          "base_uri": "https://localhost:8080/"
        },
        "outputId": "7a24a53f-ed00-480b-955d-d913b1e6a989"
      },
      "outputs": [
        {
          "output_type": "stream",
          "name": "stdout",
          "text": [
            "300 ep : 0.91\n",
            "Total steps: 2456\n"
          ]
        }
      ],
      "source": [
        "import gym\n",
        "import random\n",
        "import numpy as np\n",
        "\n",
        "from IPython.display import clear_output\n",
        "from time import sleep\n",
        "\n",
        "#Create environment\n",
        "env = gym.make(\"FrozenLake-v1\", is_slippery=False)\n",
        "\n",
        "#Algorithm parameters: step size alpha, small epsilon\n",
        "epsilon = 0.1\n",
        "alpha = 0.1\n",
        "gamma = 0.99\n",
        "#Initialize Q(s, a), for all (s, a)\n",
        "q_table = np.ones([env.observation_space.n, env.action_space.n]) ###\n",
        "\n",
        "#Train function\n",
        "def train(env, q_table, train_steps, target_score):\n",
        "    #Values for debugging\n",
        "    episode_num = 0\n",
        "    reward_sum = 0\n",
        "    total_steps = 0\n",
        "\n",
        "    #Loop for each episode\n",
        "    while total_steps < train_steps: ###\n",
        "        #Print average score every 100 episode\n",
        "        episode_num += 1\n",
        "        if episode_num % 100 == 0:\n",
        "            clear_output(wait=True)\n",
        "            print(f'{episode_num} ep : {reward_sum / 100}')\n",
        "            if target_score <= reward_sum / 100:\n",
        "                break\n",
        "            reward_sum = 0\n",
        "\n",
        "        #Initialize S\n",
        "        state = env.reset() ###\n",
        "        done = False      \n",
        "\n",
        "        #Loop for each step of episode until S is terminal\n",
        "        while not done: ###\n",
        "            total_steps += 1\n",
        "            #Choose A from S using policy derived from Q (e.g., epsilon-greedy)\n",
        "            if random.random() > epsilon: ###\n",
        "                #Best Action\n",
        "                action = np.argmax(q_table[state]) ###\n",
        "            else:\n",
        "                #Random Action\n",
        "                action = env.action_space.sample() ###\n",
        "\n",
        "            #Take action A, observe S', R, done\n",
        "            next_state, reward, done, info = env.step(action) ###\n",
        "            reward_sum += reward\n",
        "\n",
        "            #Q(S, A) <- Q(S, A) + alpha*[R + gamma * (1-done) * max a Q(S', a) - Q(S, A)]\n",
        "            q_table[state][action] = (1 - alpha) * q_table[state][action] + alpha * (reward + gamma * (1-done) * np.max(q_table[next_state])) ###\n",
        "            #S <- S'\n",
        "            state = next_state ###\n",
        "\n",
        "    #Print total steps to learn\n",
        "    print(f'Total steps: {total_steps}')\n",
        "\n",
        "#Run train\n",
        "train(env, q_table, 200000, 0.9)"
      ]
    },
    {
      "cell_type": "markdown",
      "metadata": {
        "id": "oPIw1Qh_8kHB"
      },
      "source": [
        "학습한 에이전트를 테스트 할 때에는 최선의 선택만을 하도록 합니다.\n",
        "\n",
        "env.render을 통해 잘 학습되었는지 visualize합니다.\n",
        "\n",
        "마지막으로 에피소드 100회 평균으로 평가해 봅니다."
      ]
    },
    {
      "cell_type": "code",
      "execution_count": null,
      "metadata": {
        "id": "A8VwebXi8zfL"
      },
      "outputs": [],
      "source": [
        "env = gym.make(\"FrozenLake-v1\", is_slippery=False)\n",
        "env = Monitor(env, './video', force=True)\n",
        "\n",
        "def test(env, q_table, visualize=False, step_limit=500):\n",
        "    state = env.reset()\n",
        "    reward_sum = 0\n",
        "    step_count = 0\n",
        "    done = False\n",
        "    while not done: ###\n",
        "        step_count += 1\n",
        "        if step_count > step_limit:\n",
        "            break\n",
        "        \n",
        "        #No epsilon-greedy\n",
        "        action = np.argmax(q_table[state]) ###\n",
        "\n",
        "        #Take step in environment\n",
        "        state, reward, done, info = env.step(action) ###\n",
        "\n",
        "        reward_sum += reward\n",
        "        if visualize:\n",
        "            env.render(mode='rgb_array')\n",
        "    \n",
        "    env.close()\n",
        "    if visualize:\n",
        "        show_video()\n",
        "        \n",
        "    return reward_sum\n",
        "\n",
        "score_viz = test(env, q_table, visualize=True)\n",
        "print(score_viz)\n",
        "reward_tot = 0\n",
        "for _ in range(100):\n",
        "    reward_tot += test(env, q_table)\n",
        "print(reward_tot / 100)"
      ]
    },
    {
      "cell_type": "markdown",
      "metadata": {
        "id": "X93P9QISVsKE"
      },
      "source": [
        "같은 알고리즘을 Slippery FrozenLake에서 돌려봅시다.\n",
        "\n",
        "is_slippery=True로 한 FrozenLake는 이동 시 2/3 확률로 이동 방향이 왼쪽이나 오른쪽으로 바뀝니다.\n",
        "\n",
        "기존 환경보다 어려운 non-deterministic한 환경입니다.\n",
        "\n",
        "목표 점수를 0.45로 낮추어서 학습합니다."
      ]
    },
    {
      "cell_type": "code",
      "execution_count": null,
      "metadata": {
        "colab": {
          "base_uri": "https://localhost:8080/"
        },
        "id": "DY-ru8UBWZFb",
        "outputId": "3aa7882c-dfcd-4871-ea92-8c176ac41f87"
      },
      "outputs": [
        {
          "output_type": "stream",
          "name": "stdout",
          "text": [
            "3700 ep : 0.46\n",
            "Total steps: 109751\n"
          ]
        }
      ],
      "source": [
        "#Create environment\n",
        "env = gym.make(\"FrozenLake-v1\", is_slippery=True)\n",
        "q_table = np.ones([env.observation_space.n, env.action_space.n])\n",
        "train(env, q_table, 800000, 0.45)"
      ]
    },
    {
      "cell_type": "code",
      "execution_count": null,
      "metadata": {
        "id": "xZdZuBl2XgpH"
      },
      "outputs": [],
      "source": [
        "#Visualize trained agent\n",
        "env = gym.make(\"FrozenLake-v1\", is_slippery=True)\n",
        "env = Monitor(env, './video', force=True)\n",
        "\n",
        "\n",
        "score_viz = test(env, q_table, visualize=True)\n",
        "print(score_viz)\n",
        "reward_tot = 0\n",
        "for _ in range(100):\n",
        "    reward_tot += test(env, q_table)\n",
        "print(reward_tot / 100)"
      ]
    },
    {
      "cell_type": "markdown",
      "metadata": {
        "id": "BBeQntvQa69I"
      },
      "source": [
        "Q Table을 visualize 하여 어떤 식으로 학습됐는지 확인해 봅시다.\n",
        "\n",
        "주변 구멍의 반대 방향으로 이동하도록 학습된 모습을 확인할 수 있습니다."
      ]
    },
    {
      "cell_type": "code",
      "execution_count": null,
      "metadata": {
        "id": "lOunfe2KbBHD",
        "colab": {
          "base_uri": "https://localhost:8080/"
        },
        "outputId": "ea2a229d-dd7f-47e3-e83b-0bb3a2ff4a3f"
      },
      "outputs": [
        {
          "output_type": "stream",
          "name": "stdout",
          "text": [
            "◁△△△\n",
            "◁◁◁◁\n",
            "△▽◁◁\n",
            "◁▷▽◁\n"
          ]
        }
      ],
      "source": [
        "dirs = ['◁','▽','▷','△']\n",
        "for row in range(4):\n",
        "    txt = ''\n",
        "    for col in range(4):\n",
        "        #Printing the direction of maximum Q value\n",
        "        txt += dirs[np.argmax(q_table[row*4+col])]\n",
        "    print(txt)"
      ]
    },
    {
      "cell_type": "code",
      "source": [
        "dirs = ['◁','▽','▷','△']\n",
        "for row in range(4):\n",
        "    txt = ''\n",
        "    for col in range(4):\n",
        "        #Printing the direction of maximum Q value\n",
        "        txt = txt + \" \" + str( q_table[row*4+col] )\n",
        "    print(txt)"
      ],
      "metadata": {
        "colab": {
          "base_uri": "https://localhost:8080/"
        },
        "id": "MFhH7HhAIhKU",
        "outputId": "55175101-0a9e-4995-cd81-49b7f5460f32"
      },
      "execution_count": null,
      "outputs": [
        {
          "output_type": "stream",
          "name": "stdout",
          "text": [
            " [0.95065818 0.95187724 0.95189591 0.95136885] [0.95873847 0.59049    0.96094012 0.96079877] [0.96810859 0.97038754 0.97020995 0.9696502 ] [0.97000549 0.729      0.96953487 0.97050136]\n",
            " [0.95995309 0.96111824 0.59049    0.9585264 ] [1. 1. 1. 1.] [0.729      0.98011283 0.59049    0.97741321] [1. 1. 1. 1.]\n",
            " [0.9704913  0.6561     0.9706033  0.96823556] [0.97763126 0.98025777 0.98026612 0.531441  ] [0.98605407 0.99000007 0.6561     0.98317762] [1. 1. 1. 1.]\n",
            " [1. 1. 1. 1.] [0.729      0.98826472 0.99001997 0.98887134] [0.99407433 0.9959049  1.         0.9901866 ] [1. 1. 1. 1.]\n"
          ]
        }
      ]
    },
    {
      "cell_type": "markdown",
      "source": [],
      "metadata": {
        "id": "RIsZ6uiH_ZlM"
      }
    },
    {
      "cell_type": "code",
      "source": [],
      "metadata": {
        "id": "jMqpZQMF_cxJ"
      },
      "execution_count": null,
      "outputs": []
    },
    {
      "cell_type": "code",
      "source": [],
      "metadata": {
        "id": "JlJp5JyO_dec"
      },
      "execution_count": null,
      "outputs": []
    },
    {
      "cell_type": "markdown",
      "metadata": {
        "id": "rNwitqAvVClm"
      },
      "source": [
        "# Custom Gym Environment\n",
        "이번 실습에서는 새로운 환경을 직접 만들어보도록 합니다.\n",
        "\n",
        "구상할 환경은 로봇이 물건을 들어서 목적지까지 운반하는 것이 목표입니다.\n",
        "\n",
        "로봇은 좌, 우로 회전하거나 전진할 수 있습니다. 최소한의 회전, 이동으로 물건을 운송 할 수 있는 로봇을 학습시켜 봅시다.\n",
        "\n",
        "차근차근 TransportRobot environment의 state, action, reward를 설계해 봅시다.\n",
        "\n",
        "\n",
        "![image.png](data:image/png;base64,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)"
      ]
    },
    {
      "cell_type": "markdown",
      "metadata": {
        "id": "J13jjLFWX7CF"
      },
      "source": [
        "### State\n",
        "\n",
        "로봇은 FrozenLake와 비슷하게 4x4 gridworld에서 진행합니다.\n",
        "\n",
        "필요한 정보는 로봇의 위치, 로봇이 향하는 방향, 물건을 들고 있는지 여부, 물건의 위치, 목적지의 위치입니다."
      ]
    },
    {
      "cell_type": "markdown",
      "metadata": {
        "id": "26uyZ_PoYCpa"
      },
      "source": [
        "### Action\n",
        "5가지 액션을 정의하고 이에 대응하는 코드를 step(action) 함수에 설계합니다.\n",
        "\n",
        "Num | Action\n",
        "--- | ---\n",
        "0 | Move forward\n",
        "1 | Turn left\n",
        "2 | Turn right\n",
        "3 | Pick up object\n",
        "4 | Put down object"
      ]
    },
    {
      "cell_type": "markdown",
      "metadata": {
        "id": "PyGaBqQUYYSt"
      },
      "source": [
        "### Reward\n",
        "최대한 빠르게 운송하는 것이 목표이기 때문에 매 스텝마다 -1의 reward를 줍니다.\n",
        "\n",
        "운송을 완료한 경우에만 episode가 종료됩니다.\n",
        "\n",
        "Reward를 원하는 목적에 맞도록 잘 설계해야 합니다."
      ]
    },
    {
      "cell_type": "markdown",
      "metadata": {
        "id": "PnSSqDkOYfhC"
      },
      "source": [
        "## TransportRobotEnv 구현\n",
        "위 3가지를 염두에 두면서 init, reset, step 함수를 구현합니다.\n",
        "\n",
        "init 함수에선 state를 저장할 변수들을 선언합니다.\n",
        "\n",
        "reset 함수에선 변수들을 초기화 합니다. random 모듈을 이용하여 매번 랜덤하게 시작합니다.\n",
        "\n",
        "step 함수에선 환경에서 에이전트가 action을 행했을 때 변한 state를 구하고 reward, done을 반환합니다.\n",
        "\n",
        "어느 프로그램이든 디버깅은 굉장히 중요합니다. 마지막으로 render 함수를 구현해서 환경이 잘 작동하는지 쉽게 시각적으로 확인할 수 있도록 합니다.\n"
      ]
    },
    {
      "cell_type": "code",
      "source": [
        "import gym\n",
        "import random\n",
        "import numpy as np\n",
        "\n",
        "from IPython.display import clear_output\n",
        "from time import sleep\n",
        "\n",
        "#Create environment\n",
        "env = gym.make(\"FrozenLake-v1\", is_slippery=False)\n",
        "\n",
        "#Algorithm parameters: step size alpha, small epsilon\n",
        "epsilon = 0.1\n",
        "alpha = 0.1\n",
        "gamma = 0.99\n",
        "#Initialize Q(s, a), for all (s, a)\n",
        "q_table = np.ones([env.observation_space.n, env.action_space.n]) ###\n",
        "\n",
        "#Train function\n",
        "def train(env, q_table, train_steps, target_score):\n",
        "    #Values for debugging\n",
        "    episode_num = 0\n",
        "    reward_sum = 0\n",
        "    total_steps = 0\n",
        "\n",
        "    #Loop for each episode\n",
        "    while total_steps < train_steps: ###\n",
        "        #Print average score every 100 episode\n",
        "        episode_num += 1\n",
        "        if episode_num % 100 == 0:\n",
        "            clear_output(wait=True)\n",
        "            print(f'{episode_num} ep : {reward_sum / 100}')\n",
        "            if target_score <= reward_sum / 100:\n",
        "                break\n",
        "            reward_sum = 0\n",
        "\n",
        "        #Initialize S\n",
        "        state = env.reset() ###\n",
        "        done = False      \n",
        "\n",
        "        #Loop for each step of episode until S is terminal\n",
        "        while not done: ###\n",
        "            total_steps += 1\n",
        "            #Choose A from S using policy derived from Q (e.g., epsilon-greedy)\n",
        "            if random.random() > epsilon: ###\n",
        "                #Best Action\n",
        "                action = np.argmax(q_table[state]) ###\n",
        "            else:\n",
        "                #Random Action\n",
        "                action = env.action_space.sample() ###\n",
        "\n",
        "            #Take action A, observe S', R, done\n",
        "            next_state, reward, done, info = env.step(action) ###\n",
        "            reward_sum += reward\n",
        "\n",
        "            #Q(S, A) <- Q(S, A) + alpha*[R + gamma * (1-done) * max a Q(S', a) - Q(S, A)]\n",
        "            q_table[state][action] = (1 - alpha) * q_table[state][action] + alpha * (reward + gamma * (1-done) * np.max(q_table[next_state])) ###\n",
        "            #S <- S'\n",
        "            state = next_state ###\n",
        "\n",
        "    #Print total steps to learn\n",
        "    print(f'Total steps: {total_steps}')"
      ],
      "metadata": {
        "colab": {
          "base_uri": "https://localhost:8080/"
        },
        "id": "97NHTK_ROBeI",
        "outputId": "e65b0354-d3e5-41da-a00c-05aef3e40bae"
      },
      "execution_count": null,
      "outputs": [
        {
          "output_type": "stream",
          "name": "stderr",
          "text": [
            "/usr/local/lib/python3.7/dist-packages/gym/core.py:318: DeprecationWarning: \u001b[33mWARN: Initializing wrapper in old step API which returns one bool instead of two. It is recommended to set `new_step_api=True` to use new step API. This will be the default behaviour in future.\u001b[0m\n",
            "  \"Initializing wrapper in old step API which returns one bool instead of two. It is recommended to set `new_step_api=True` to use new step API. This will be the default behaviour in future.\"\n",
            "/usr/local/lib/python3.7/dist-packages/gym/wrappers/step_api_compatibility.py:40: DeprecationWarning: \u001b[33mWARN: Initializing environment in old step API which returns one bool instead of two. It is recommended to set `new_step_api=True` to use new step API. This will be the default behaviour in future.\u001b[0m\n",
            "  \"Initializing environment in old step API which returns one bool instead of two. It is recommended to set `new_step_api=True` to use new step API. This will be the default behaviour in future.\"\n"
          ]
        }
      ]
    },
    {
      "cell_type": "markdown",
      "metadata": {
        "id": "W9az5InGs_50"
      },
      "source": []
    },
    {
      "cell_type": "code",
      "execution_count": null,
      "metadata": {
        "id": "zGMk6PvWA_g5"
      },
      "outputs": [],
      "source": [
        "class TransportRobotEnv(gym.Env):\n",
        "    def __init__(self):\n",
        "        self.dir = 0 #0 Left, 1 Up, 2 Right, 3 Down\n",
        "        self.iscarry = 0 #0 No, 1 Yes\n",
        "        self.grid_size = 4\n",
        "        self.x = 0\n",
        "        self.y = 0\n",
        "        self.object_x = 0\n",
        "        self.object_y = 0\n",
        "        self.target_x = 0\n",
        "        self.target_y = 0\n",
        "        \n",
        "        self.step_count = 0\n",
        "        self.prev_action = 0\n",
        "        \n",
        "        #State consists of following : directions, is_carryning_object, x, y, object x, object y, target x, target y\n",
        "        self.observation_space = [4, 2, self.grid_size, self.grid_size, self.grid_size, self.grid_size, self.grid_size, self.grid_size] \n",
        "        #5 actions : move forward, turn left, turn right, pick up, put down\n",
        "        self.action_space = gym.spaces.Discrete(5) ###\n",
        "        self.action_names = ['Move', 'Turn left', 'Turn right', 'Pick up', 'Put down']\n",
        "\n",
        "    def get_obs(self):\n",
        "        return (self.dir, self.iscarry, self.x, self.y, self.object_x, self.object_y, self.target_x, self.target_y)\n",
        "\n",
        "    def reset(self):\n",
        "        self.dir = random.randint(0, 3)\n",
        "        self.iscarry = 0\n",
        "        self.x = random.randint(0, self.grid_size-1) \n",
        "        self.y = random.randint(0, self.grid_size-1)\n",
        "        self.object_x = random.randint(0, self.grid_size-1)\n",
        "        self.object_y = random.randint(0, self.grid_size-1)\n",
        "        self.target_x = random.randint(0, self.grid_size-1)\n",
        "        self.target_y = random.randint(0, self.grid_size-1)\n",
        "\n",
        "        self.step_count = 0\n",
        "        return self.get_obs()\n",
        "\n",
        "    def step(self, action):\n",
        "        self.step_count += 1\n",
        "        self.prev_action = action\n",
        "\n",
        "        reward = -1\n",
        "        done = False\n",
        "        \n",
        "        #5 actions\n",
        "        #Move forward\n",
        "        if action == 0:\n",
        "            if self.dir == 0 and self.x < self.grid_size-1:\n",
        "                self.x += 1\n",
        "            elif self.dir == 1 and self.y < self.grid_size-1:\n",
        "                self.y += 1\n",
        "            elif self.dir == 2 and self.x > 0:\n",
        "                self.x -= 1\n",
        "            elif self.dir == 3 and self.y > 0:\n",
        "                self.y -= 1\n",
        "        #Turn left\n",
        "        elif action == 1:\n",
        "            self.dir = (self.dir+1)%4\n",
        "        #Turn right\n",
        "        elif action == 2:\n",
        "            self.dir = (self.dir+3)%4\n",
        "        #Pick up object\n",
        "        elif action == 3:\n",
        "            if self.iscarry == 0 and self.x == self.object_x and self.y == self.object_y:\n",
        "                self.iscarry = 1\n",
        "        #Put down object\n",
        "        elif action == 4:\n",
        "            if self.iscarry == 1:\n",
        "                self.iscarry = 0\n",
        "        \n",
        "        if self.iscarry == 1:\n",
        "            self.object_x = self.x\n",
        "            self.object_y = self.y\n",
        "        #If object is delivered successfully, end environment\n",
        "        if self.object_x == self.target_x and self.object_y == self.target_y and self.iscarry == 0:\n",
        "            done = True\n",
        "\n",
        "        return self.get_obs(), reward, done, {}\n",
        "\n",
        "    # Rendering is very important for debugging\n",
        "    def render(self):\n",
        "        print(f'Step {self.step_count}')\n",
        "        if self.iscarry == 0:\n",
        "            robot_shape = ['▷', '△', '◁', '▽']\n",
        "        else:\n",
        "            robot_shape = ['▶', '▲', '◀', '▼']\n",
        "        \n",
        "        for y in reversed(range(self.grid_size)):\n",
        "            line = ''\n",
        "            for x in range(self.grid_size):\n",
        "                if x == self.x and y == self.y:\n",
        "                    line += robot_shape[self.dir]\n",
        "                elif self.iscarry == 0 and x == self.object_x and y == self.object_y:\n",
        "                    line += '●'\n",
        "                elif x == self.target_x and y == self.target_y:\n",
        "                    line += '◎'\n",
        "                else:\n",
        "                    line += '□'\n",
        "            print(line)\n",
        "        print(self.action_names[self.prev_action])"
      ]
    },
    {
      "cell_type": "markdown",
      "metadata": {
        "id": "k9h1IiNq11Ka"
      },
      "source": [
        "환경이 잘 작동하는지 random agent로 실행해봅시다."
      ]
    },
    {
      "cell_type": "code",
      "execution_count": null,
      "metadata": {
        "colab": {
          "base_uri": "https://localhost:8080/"
        },
        "id": "qG0bN3SO1S1d",
        "outputId": "36659eaa-0bc1-4442-8fdc-af12d6b4f635"
      },
      "outputs": [
        {
          "output_type": "stream",
          "name": "stdout",
          "text": [
            "obs: (2, 0, 3, 3, 3, 3, 2, 1)\n",
            "reward: -1\n",
            "done: False\n",
            "info: {}\n",
            "Step 11\n",
            "□□□◁\n",
            "□□□□\n",
            "□□◎□\n",
            "□□□□\n",
            "Turn right\n"
          ]
        }
      ],
      "source": [
        "env = TransportRobotEnv()\n",
        "\n",
        "state = env.reset()\n",
        "done = False\n",
        "step_count = 0\n",
        "while not done:\n",
        "    action = env.action_space.sample()\n",
        "    next_state, reward, done, info = env.step(action)\n",
        "    state = next_state #next state\n",
        "\n",
        "    print(f'obs: {next_state}')\n",
        "    print(f'reward: {reward}')\n",
        "    print(f'done: {done}')\n",
        "    print(f'info: {info}')\n",
        "    env.render()\n",
        "    \n",
        "    sleep(0.5)\n",
        "    clear_output(wait=True)\n",
        "    step_count += 1\n",
        "    if step_count > 10:\n",
        "        break"
      ]
    },
    {
      "cell_type": "markdown",
      "metadata": {
        "id": "bDKqZAev15uA"
      },
      "source": [
        "구현한 Q Learning 함수로 RobotEnv를 학습해 봅시다."
      ]
    },
    {
      "cell_type": "code",
      "execution_count": null,
      "metadata": {
        "colab": {
          "base_uri": "https://localhost:8080/"
        },
        "id": "ylh_ak30G2jW",
        "outputId": "fa296da1-0f84-4708-c173-e7773aedab58"
      },
      "outputs": [
        {
          "output_type": "stream",
          "name": "stdout",
          "text": [
            "300 ep : -2403.69\n"
          ]
        }
      ],
      "source": [
        "env = TransportRobotEnv()\n",
        "q_table = np.zeros([*env.observation_space, env.action_space.n])\n",
        "train(env, q_table, 5000000, -9)"
      ]
    },
    {
      "cell_type": "markdown",
      "metadata": {
        "id": "uKQkMjUR2XA7"
      },
      "source": [
        "점수가 원하는 목표까지 도달하지 못했음을 확인할 수 있습니다.\n",
        "\n",
        "Visualization을 통해 어떤 문제가 있는지 확인합시다."
      ]
    },
    {
      "cell_type": "code",
      "execution_count": null,
      "metadata": {
        "id": "eHrBND8-H2Hy",
        "colab": {
          "base_uri": "https://localhost:8080/",
          "height": 211
        },
        "outputId": "b6454d0f-ce48-4426-dbce-d5f8f0ccc624"
      },
      "outputs": [
        {
          "output_type": "error",
          "ename": "NameError",
          "evalue": "ignored",
          "traceback": [
            "\u001b[0;31m---------------------------------------------------------------------------\u001b[0m",
            "\u001b[0;31mNameError\u001b[0m                                 Traceback (most recent call last)",
            "\u001b[0;32m<ipython-input-4-e973ada92a79>\u001b[0m in \u001b[0;36m<module>\u001b[0;34m\u001b[0m\n\u001b[1;32m     37\u001b[0m     \u001b[0mprint\u001b[0m\u001b[0;34m(\u001b[0m\u001b[0;34mf'Average score: {reward_tot / (100-fail_count)}'\u001b[0m\u001b[0;34m)\u001b[0m\u001b[0;34m\u001b[0m\u001b[0;34m\u001b[0m\u001b[0m\n\u001b[1;32m     38\u001b[0m \u001b[0;34m\u001b[0m\u001b[0m\n\u001b[0;32m---> 39\u001b[0;31m \u001b[0mviz_and_test\u001b[0m\u001b[0;34m(\u001b[0m\u001b[0menv\u001b[0m\u001b[0;34m,\u001b[0m \u001b[0mq_table\u001b[0m\u001b[0;34m)\u001b[0m\u001b[0;34m\u001b[0m\u001b[0;34m\u001b[0m\u001b[0m\n\u001b[0m",
            "\u001b[0;31mNameError\u001b[0m: name 'q_table' is not defined"
          ]
        }
      ],
      "source": [
        "from IPython.display import clear_output\n",
        "\n",
        "def viz_and_test(env, q_table):\n",
        "    def test_custom(env, q_table, visualize=False, step_limit=500):\n",
        "        state = env.reset()\n",
        "        reward_sum = 0\n",
        "        step_count = 0\n",
        "        done = False\n",
        "        while not done:\n",
        "            step_count += 1\n",
        "            if step_count > step_limit:\n",
        "                break\n",
        "            \n",
        "            #No epsilon-greedy\n",
        "            action = np.argmax(q_table[state])\n",
        "            state, reward, done, info = env.step(action)\n",
        "\n",
        "            reward_sum += reward\n",
        "            if visualize:\n",
        "                clear_output(wait=True)\n",
        "                env.render()\n",
        "                sleep(0.5)\n",
        "\n",
        "        return reward_sum\n",
        "    \n",
        "    score_viz = test_custom(env, q_table, visualize=True, step_limit=20)\n",
        "    print(score_viz)\n",
        "    reward_tot = 0\n",
        "    fail_count = 0\n",
        "    for _ in range(100):\n",
        "        score = test_custom(env, q_table)\n",
        "        if score > -100:\n",
        "            reward_tot += score\n",
        "        else:\n",
        "            fail_count += 1\n",
        "    print(f'Success rate: {1 - fail_count/100}')\n",
        "    print(f'Average score: {reward_tot / (100-fail_count)}')\n",
        "\n",
        "viz_and_test(env, q_table)"
      ]
    },
    {
      "cell_type": "markdown",
      "metadata": {
        "id": "f3GsNv6W4AjH"
      },
      "source": [
        "학습이 잘 되지 않아 올바르지 않은 행동을 반복하는 모습을 확인 할 수 있습니다.\n",
        "\n",
        "이 문제를 해결하기 위해 Reward Shaping을 도입해 봅시다."
      ]
    },
    {
      "cell_type": "markdown",
      "metadata": {
        "id": "qelm7Mr42HEP"
      },
      "source": [
        "# Reward Shaping\n",
        "Reward를 수정하여 에이전트가 더 쉽게 학습할 수 있도록 설계하는 것을 reward shaping이라고 합니다.\n",
        "\n",
        "Train 함수를 수정하여 reward shaping을 진행해 봅시다.\n",
        "\n",
        "예시로 운반에 성공했을 경우 reward를 추가로 10을 얻도록 변경합니다."
      ]
    },
    {
      "cell_type": "code",
      "execution_count": null,
      "metadata": {
        "id": "prUO6ZWxazlF",
        "colab": {
          "base_uri": "https://localhost:8080/"
        },
        "outputId": "eb3909a6-183a-47dd-b1fb-1065c653d511"
      },
      "outputs": [
        {
          "output_type": "stream",
          "name": "stdout",
          "text": [
            "65300 ep : -9.91\n",
            "Total steps: 1244142\n"
          ]
        }
      ],
      "source": [
        "import numpy as np\n",
        "import gym\n",
        "\n",
        "#Train function\n",
        "def train_reward_shape(env, q_table, train_steps, target_score):\n",
        "    episode_num = 0\n",
        "    reward_sum = 0\n",
        "    total_steps = 0\n",
        "\n",
        "    while total_steps < train_steps:\n",
        "        episode_num += 1\n",
        "        if episode_num % 100 == 0:\n",
        "            clear_output(wait=True)\n",
        "            print(f'{episode_num} ep : {reward_sum / 100}')\n",
        "            if target_score <= reward_sum / 100:\n",
        "                break\n",
        "            reward_sum = 0\n",
        "\n",
        "        #Initialize S\n",
        "        state = env.reset()\n",
        "        done = False\n",
        "\n",
        "        while not done:\n",
        "            total_steps += 1\n",
        "            if random.random() > epsilon:\n",
        "                action = np.argmax(q_table[state])\n",
        "            else:\n",
        "                action = env.action_space.sample()\n",
        "\n",
        "            next_state, reward, done, info = env.step(action)\n",
        "            reward_sum += reward\n",
        "\n",
        "            #Reward Shaping here: Shape reward only for q_table\n",
        "            if done:\n",
        "                reward += 10\n",
        "            elif state[1] == 1 and next_state[1] == 0:\n",
        "                reward -= 5\n",
        "            elif state[1] == 0 and next_state[1] == 1:\n",
        "                reward += 5\n",
        "            elif state == next_state: \n",
        "                reward -= 5\n",
        "            #Shaping done;\n",
        "            \n",
        "            q_table[state][action] = (1 - alpha) * q_table[state][action] + alpha * (reward + gamma * (1-done) * np.max(q_table[next_state]))\n",
        "            state = next_state\n",
        "\n",
        "    print(f'Total steps: {total_steps}')\n",
        "\n",
        "env = TransportRobotEnv()\n",
        "q_table = np.zeros([*env.observation_space, env.action_space.n])\n",
        "train_reward_shape(env, q_table, 5000000, -10)"
      ]
    },
    {
      "cell_type": "code",
      "execution_count": null,
      "metadata": {
        "id": "qUH8XeAncI0A",
        "colab": {
          "base_uri": "https://localhost:8080/"
        },
        "outputId": "4a68992a-7457-4e60-acaa-50a647717ba4"
      },
      "outputs": [
        {
          "output_type": "stream",
          "name": "stdout",
          "text": [
            "Step 8\n",
            "□△□□\n",
            "□□□□\n",
            "□□□□\n",
            "□□□□\n",
            "Put down\n",
            "-8\n",
            "Success rate: 0.92\n",
            "Average score: -9.445652173913043\n"
          ]
        }
      ],
      "source": [
        "viz_and_test(env, q_table)"
      ]
    },
    {
      "cell_type": "markdown",
      "metadata": {
        "id": "Z4Q-W1VFly3_"
      },
      "source": [
        "#Cartpole-v0\n",
        "\n",
        "마찰이 없는 카트 위에 있는 막대기를 오랜 시간 넘어뜨리지 않는 것이 목표로\n",
        "\n",
        "연속적인 state를 가지고 있는 환경입니다.\n",
        "![image.png](data:image/png;base64,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)\n",
        "\n",
        "\n",
        "## 종료조건\n",
        "- 카트가 중심에서 너무 멀 경우\n",
        "- 12도 이상 막대기가 기울어진 경우\n",
        "= 시간 스텝이 200 이상\n",
        "\n",
        "\n",
        "## State\n",
        "- 카트 위치\n",
        "- 카트 속도\n",
        "- 막대 각\n",
        "- 막대 각속도\n",
        "\n",
        "\n",
        "## Action\n",
        "- 오른쪽으로 카트 밀기\n",
        "- 왼쪽으로 카트 밀기\n",
        "\n",
        "\n",
        "## Reward\n",
        "- 살아있는 매 step 마다 +1\n"
      ]
    },
    {
      "cell_type": "code",
      "execution_count": null,
      "metadata": {
        "colab": {
          "base_uri": "https://localhost:8080/"
        },
        "id": "pp3QdSWEg-Ut",
        "outputId": "38292e42-6705-4aae-f80f-ef972f93b99c"
      },
      "outputs": [
        {
          "output_type": "stream",
          "name": "stdout",
          "text": [
            "Box([-4.8000002e+00 -3.4028235e+38 -4.1887903e-01 -3.4028235e+38], [4.8000002e+00 3.4028235e+38 4.1887903e-01 3.4028235e+38], (4,), float32)\n",
            "Discrete(2)\n"
          ]
        }
      ],
      "source": [
        "env = gym.make('CartPole-v1')\n",
        "env = Monitor(env, './video', force=True)\n",
        "\n",
        "print(env.observation_space)\n",
        "\n",
        "print(env.action_space) "
      ]
    },
    {
      "cell_type": "code",
      "execution_count": null,
      "metadata": {
        "colab": {
          "base_uri": "https://localhost:8080/",
          "height": 420
        },
        "id": "EvZ900Ssndyv",
        "outputId": "5f518092-b84f-46c5-df31-fdab53ce638b"
      },
      "outputs": [
        {
          "output_type": "display_data",
          "data": {
            "text/plain": [
              "<IPython.core.display.HTML object>"
            ],
            "text/html": [
              "\n",
              "            <video alt=\"test\" autoplay loop controls style=\"height: 400px;\">\n",
              "                <source src=\"data:video/mp4;base64,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\" type=\"video/mp4\" />\n",
              "            </video>"
            ]
          },
          "metadata": {}
        }
      ],
      "source": [
        "random_episode(env)"
      ]
    },
    {
      "cell_type": "markdown",
      "source": [
        "Q Learning은 Table을 만들어야 하기 때문에 무한한 값을 가지는 연속적인 state는 처리할 수 없습니다.\n",
        "\n",
        "각 4개의 state의 연속적인 값을 7개의 구간으로 나누어 이산화하여 사용해 봅시다."
      ],
      "metadata": {
        "id": "MSc1MVAuAO2l"
      }
    },
    {
      "cell_type": "code",
      "execution_count": null,
      "metadata": {
        "id": "jqmqoFsehFaE",
        "colab": {
          "base_uri": "https://localhost:8080/",
          "height": 512
        },
        "outputId": "d7c2d4cf-a780-4f67-c63a-a35e6ac97838"
      },
      "outputs": [
        {
          "output_type": "stream",
          "name": "stderr",
          "text": [
            "/usr/local/lib/python3.7/dist-packages/gym/envs/registration.py:595: UserWarning: \u001b[33mWARN: Overriding environment DiscreteCartpole-v0\u001b[0m\n",
            "  logger.warn(f\"Overriding environment {id}\")\n"
          ]
        },
        {
          "output_type": "stream",
          "name": "stdout",
          "text": [
            "Discrete(2401)\n",
            "Discrete(2)\n"
          ]
        },
        {
          "output_type": "display_data",
          "data": {
            "text/plain": [
              "<IPython.core.display.HTML object>"
            ],
            "text/html": [
              "\n",
              "            <video alt=\"test\" autoplay loop controls style=\"height: 400px;\">\n",
              "                <source src=\"data:video/mp4;base64,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\" type=\"video/mp4\" />\n",
              "            </video>"
            ]
          },
          "metadata": {}
        }
      ],
      "source": [
        "from gym.envs.classic_control import CartPoleEnv\n",
        "from gym.spaces import Discrete\n",
        "from gym import register\n",
        "\n",
        "class DiscreteCartpole(CartPoleEnv):\n",
        "    def __init__(self, *args, **kwargs):\n",
        "        super().__init__(*args, **kwargs)\n",
        "        self.bin_size = 7\n",
        "        self.observation_space = Discrete(self.bin_size**4)\n",
        "    \n",
        "    def discretize_state(self, state):\n",
        "        discrete_state = 0\n",
        "        state[0] *= 100\n",
        "        state[2] *= 10\n",
        "        for value in state:\n",
        "            d_v = int((value+1)*self.bin_size/2)\n",
        "            if d_v < 0:\n",
        "                d_v = 0\n",
        "            elif d_v >= self.bin_size:\n",
        "                d_v = self.bin_size-1\n",
        "            discrete_state *= self.bin_size\n",
        "            discrete_state += d_v\n",
        "        return discrete_state\n",
        "\n",
        "    def reset(self):\n",
        "        state = super().reset()\n",
        "        return self.discretize_state(state) ###\n",
        "\n",
        "    def step(self, action):\n",
        "        state, reward, done, info = super().step(action) ###\n",
        "        return self.discretize_state(state), reward, done, info ###\n",
        "\n",
        "register(\n",
        "    id='DiscreteCartpole-v0',\n",
        "    entry_point='__main__:DiscreteCartpole',\n",
        "    max_episode_steps=200,\n",
        ")\n",
        "\n",
        "env = gym.make('DiscreteCartpole-v0')\n",
        "env = Monitor(env, './video', force=True)\n",
        "\n",
        "print(env.observation_space)\n",
        "\n",
        "print(env.action_space) \n",
        "\n",
        "random_episode(env)"
      ]
    },
    {
      "cell_type": "markdown",
      "source": [
        "이전에 구현한 Q Learning 알고리즘으로 학습을 시키고 결과를 확인합니다.\n"
      ],
      "metadata": {
        "id": "C8q1dwXuA-mG"
      }
    },
    {
      "cell_type": "code",
      "source": [
        "env = DiscreteCartpole()\n",
        "q_table = np.zeros([env.observation_space.n, env.action_space.n]) ###\n",
        "# Maximum score is 200\n",
        "train(env, q_table, 5000000, 150) ###"
      ],
      "metadata": {
        "colab": {
          "base_uri": "https://localhost:8080/",
          "height": 224
        },
        "id": "zInIP2TMPqqp",
        "outputId": "29f46d90-d396-40da-870f-50590907fce7"
      },
      "execution_count": null,
      "outputs": [
        {
          "output_type": "error",
          "ename": "NameError",
          "evalue": "ignored",
          "traceback": [
            "\u001b[0;31m---------------------------------------------------------------------------\u001b[0m",
            "\u001b[0;31mNameError\u001b[0m                                 Traceback (most recent call last)",
            "\u001b[0;32m<ipython-input-9-97a2fbc8bc71>\u001b[0m in \u001b[0;36m<module>\u001b[0;34m\u001b[0m\n\u001b[1;32m      1\u001b[0m \u001b[0menv\u001b[0m \u001b[0;34m=\u001b[0m \u001b[0mDiscreteCartpole\u001b[0m\u001b[0;34m(\u001b[0m\u001b[0;34m)\u001b[0m\u001b[0;34m\u001b[0m\u001b[0;34m\u001b[0m\u001b[0m\n\u001b[0;32m----> 2\u001b[0;31m \u001b[0mq_table\u001b[0m \u001b[0;34m=\u001b[0m \u001b[0mnp\u001b[0m\u001b[0;34m.\u001b[0m\u001b[0mzeros\u001b[0m\u001b[0;34m(\u001b[0m\u001b[0;34m[\u001b[0m\u001b[0menv\u001b[0m\u001b[0;34m.\u001b[0m\u001b[0mobservation_space\u001b[0m\u001b[0;34m.\u001b[0m\u001b[0mn\u001b[0m\u001b[0;34m,\u001b[0m \u001b[0menv\u001b[0m\u001b[0;34m.\u001b[0m\u001b[0maction_space\u001b[0m\u001b[0;34m.\u001b[0m\u001b[0mn\u001b[0m\u001b[0;34m]\u001b[0m\u001b[0;34m)\u001b[0m \u001b[0;31m###\u001b[0m\u001b[0;34m\u001b[0m\u001b[0;34m\u001b[0m\u001b[0m\n\u001b[0m\u001b[1;32m      3\u001b[0m \u001b[0;31m# Maximum score is 200\u001b[0m\u001b[0;34m\u001b[0m\u001b[0;34m\u001b[0m\u001b[0;34m\u001b[0m\u001b[0m\n\u001b[1;32m      4\u001b[0m \u001b[0mtrain\u001b[0m\u001b[0;34m(\u001b[0m\u001b[0menv\u001b[0m\u001b[0;34m,\u001b[0m \u001b[0mq_table\u001b[0m\u001b[0;34m,\u001b[0m \u001b[0;36m5000000\u001b[0m\u001b[0;34m,\u001b[0m \u001b[0;36m150\u001b[0m\u001b[0;34m)\u001b[0m \u001b[0;31m###\u001b[0m\u001b[0;34m\u001b[0m\u001b[0;34m\u001b[0m\u001b[0m\n",
            "\u001b[0;31mNameError\u001b[0m: name 'np' is not defined"
          ]
        }
      ]
    },
    {
      "cell_type": "code",
      "source": [
        "test_env = gym.make('DiscreteCartpole-v0')\n",
        "test_env = Monitor(test_env, './video', force=True)\n",
        "test(test_env, q_table, visualize=True)"
      ],
      "metadata": {
        "colab": {
          "base_uri": "https://localhost:8080/",
          "height": 769
        },
        "id": "Ab-rzdiVSo--",
        "outputId": "971bddfd-ecb7-40c1-a42f-5eb659d5b60c"
      },
      "execution_count": null,
      "outputs": [
        {
          "output_type": "stream",
          "name": "stderr",
          "text": [
            "Exception ignored in: <function Monitor.__del__ at 0x7f9a172a0050>\n",
            "Traceback (most recent call last):\n",
            "  File \"/usr/local/lib/python3.7/dist-packages/gym/wrappers/monitor.py\", line 288, in __del__\n",
            "    self.close()\n",
            "  File \"/usr/local/lib/python3.7/dist-packages/gym/wrappers/monitor.py\", line 185, in close\n",
            "    self._close_video_recorder()\n",
            "  File \"/usr/local/lib/python3.7/dist-packages/gym/wrappers/monitor.py\", line 269, in _close_video_recorder\n",
            "    self.video_recorder.close()\n",
            "  File \"/usr/local/lib/python3.7/dist-packages/gym/wrappers/monitoring/video_recorder.py\", line 160, in close\n",
            "    os.remove(self.path)\n",
            "FileNotFoundError: [Errno 2] No such file or directory: '/content/video/openaigym.video.19.4099.video000000.mp4'\n",
            "Exception ignored in: <function VideoRecorder.__del__ at 0x7f9a17295c20>\n",
            "Traceback (most recent call last):\n",
            "  File \"/usr/local/lib/python3.7/dist-packages/gym/wrappers/monitoring/video_recorder.py\", line 193, in __del__\n",
            "    self.close()\n",
            "  File \"/usr/local/lib/python3.7/dist-packages/gym/wrappers/monitoring/video_recorder.py\", line 160, in close\n",
            "    os.remove(self.path)\n",
            "FileNotFoundError: [Errno 2] No such file or directory: '/content/video/openaigym.video.19.4099.video000000.mp4'\n"
          ]
        },
        {
          "output_type": "display_data",
          "data": {
            "text/plain": [
              "<IPython.core.display.HTML object>"
            ],
            "text/html": [
              "\n",
              "            <video alt=\"test\" autoplay loop controls style=\"height: 400px;\">\n",
              "                <source src=\"data:video/mp4;base64,AAAAIGZ0eXBpc29tAAACAGlzb21pc28yYXZjMW1wNDEAAAAIZnJlZQAAOcptZGF0AAACrgYF//+q3EXpvebZSLeWLNgg2SPu73gyNjQgLSBjb3JlIDE1MiByMjg1NCBlOWE1OTAzIC0gSC4yNjQvTVBFRy00IEFWQyBjb2RlYyAtIENvcHlsZWZ0IDIwMDMtMjAxNyAtIGh0dHA6Ly93d3cudmlkZW9sYW4ub3JnL3gyNjQuaHRtbCAtIG9wdGlvbnM6IGNhYmFjPTEgcmVmPTMgZGVibG9jaz0xOjA6MCBhbmFseXNlPTB4MzoweDExMyBtZT1oZXggc3VibWU9NyBwc3k9MSBwc3lfcmQ9MS4wMDowLjAwIG1peGVkX3JlZj0xIG1lX3JhbmdlPTE2IGNocm9tYV9tZT0xIHRyZWxsaXM9MSA4eDhkY3Q9MSBjcW09MCBkZWFkem9uZT0yMSwxMSBmYXN0X3Bza2lwPTEgY2hyb21hX3FwX29mZnNldD0tMiB0aHJlYWRzPTMgbG9va2FoZWFkX3RocmVhZHM9MSBzbGljZWRfdGhyZWFkcz0wIG5yPTAgZGVjaW1hdGU9MSBpbnRlcmxhY2VkPTAgYmx1cmF5X2NvbXBhdD0wIGNvbnN0cmFpbmVkX2ludHJhPTAgYmZyYW1lcz0zIGJfcHlyYW1pZD0yIGJfYWRhcHQ9MSBiX2JpYXM9MCBkaXJlY3Q9MSB3ZWlnaHRiPTEgb3Blbl9nb3A9MCB3ZWlnaHRwPTIga2V5aW50PTI1MCBrZXlpbnRfbWluPTI1IHNjZW5lY3V0PTQwIGludHJhX3JlZnJlc2g9MCByY19sb29rYWhlYWQ9NDAgcmM9Y3JmIG1idHJlZT0xIGNyZj0yMy4wIHFjb21wPTAuNjAgcXBtaW49MCBxcG1heD02OSBxcHN0ZXA9NCBpcF9yYXRpbz0xLjQwIGFxPTE6MS4wMACAAAACCGWIhAAv//72rvzLK0cLlS4dWXuzUfLoSXL9iDB9aAAAAwAAAwAAJuKiZ0WFMeJsgAAALmAIWElDyDzETFWKgSxBDesvlj4OyaUS/18ZLd/vQqan9q0yFZtjazXpg4TiKd1BUUXDHamZQGe9CU2VfKq1OOtRqkiBm0bq+KQEZWYih+O/ds4QxCyQpm5G1UOo/jxuXhDtj1DKmtBcuHwjYRsikV7BhofUUUToEzJKHXChWhVo7jFq9+OABDPBMuRQSBneqvXsHU8z4dJK6kqpe4Attjr1QxJ6Po89DftXhOZHi7VQW/cKONwO2xQc1YfxzH9ppeCq463Gv1b9IaDP5KlWiCOlV5blvNnMNm9vspMAsJL26AmzfD3rEqpK8doJR7BkSAFYwssJsRs+96yJeekxY2zzVvrXKSqYR63lLfPlF+2Kz38Cxr+JdIEyPJNH2yL4t+C005vUDtpnvex2HbIMkzuLDWuoZhKc2MOf7EnDze1p3KNYx+gsWaNH/qOGfXmXM78JqFjBKzMLwtckb1Ro8+Nyw+vtFPCS1DI9aMoQXOFpdTGcOV3bcpDFDv7B1bDGV8EUvH/KAAPCytqNoTRdH7T7bv4VChcwVIY1ry77hQtgXrJ1YWHIbpAZk/v4fz2aET2zsca2R8NnqC+0Z4AAX0AARdR34QAAAwAAAwAAAwAAAwAAkoEAAAB2QZokbEL//oywAABGCsKzgCf6/o2lmpDTZflUJYNtnIy60EzkJ8EeWwCzSD+srTOT8LQh68aOexpPiR4oy9Ht2rWwL8Io7ueJX6Z4PJCCE5w2endjdlbvf+KiPVCC2SLuyTl+1XW3ndTqv5hbhu6viqHpkMHnSAAAADpBnkJ4hH8AABazLG6KcgAEsWl6lzpI1lYMxse3FIau81IpqxT4RsfYvGij1WH6fncumANyL4k3GludAAAAIwGeYXRH/wAADX9Aiss8FbQTuAe1x5SR7N5a1kp07ODMUmgbAAAAKgGeY2pH/wAAI78a+jYCXP3OcL2Sy3RggSAoQQrgfzVvWE5zjN9WnQfNHwAAAK5BmmZJqEFomUwU8M/+nhAAAEV7k2xK/As6THd900i5bLOwA4ODi47HxZ61OXC/uGHMmKAZz3AZJj+1pRWHctJUlCURgizSWJ5DYGV/vCv7o1IxiS3JjRVTjOkZo2GcTIcOGlk2mG+v5WZ0V/lg+ooChGaJ6b0oSXe9c8uyRsX+CJ5ynUvVegMbcTprilg0m3lG4YmEdRZfYiFapB45LDu/V6TBqhG3bLtvnACxaUEAAAA7AZ6Fakf/AAAjsixlrQSPFPeDgAuoA/S/eUDL8BkfpHp1FuiP3tA7FPK1ega36heq+8JsU7Lay+RgxUEAAAClQZqKSeEKUmUwIZ/+nhAAABpZBqRBsnQ0djUANl5fS2vcMUfFu3RR4c+eL396n4Z4MiXe8KkyfOnLHunzE50H5iSHC0yP1rGjU0HF4I2XsoHkudOeOYhbEUJtrfkPuF/gjmw18I668eiZr25HTw9hzRT7RrRhRu+REv7qUgoyOcELLNBlPBryjXWJ0LkH2mWyhQxF8RrdVBDFQ5oYm9zZY6UXfSBxAAAAMkGeqEU0TCP/AAAIbAofF68jWQNk33IocXNwkh+qA6bvT0RogA1O/tF66srutov5nFNgAAAAOwGex3RH/wAADYevqli6lUI8HjSiNolhf9/m03wkABlTAJNbX7ICIMAAftyJcVK4iyeCtC28EXHvHZbgAAAAHAGeyWpH/wAAAwHbf9VsbXpftti8ui+WEElHVBEAAACyQZrOSahBaJlMCGf//p4QAABFRTz64Av7WJDOGMvtE/VTvf+kHLh8MlQI82HkGrvAmqHdCA/+ic2z0akR4RTWL2+IXdzRtbPWDjVm5Eq8cLuPoY7bRHD9XRyiSlV6Ehb/Juzu8SPvdmDRbNOZs0+Pso/qnsABaUHiJHKbjhQQZmF/SURs2u1BEoyqnkg4dt++6yJiJTGZwOFW2p9zocbHqtd0Rh/SEeYsXf5wofq2S4Re0QAAAEZBnuxFESwj/wAAFrU5g7m6A5Bfppglv8qZEUO6cs38H2K9+qDUvg8v1xvdVvPOBECeWfu3Ogq090ygpgBYVtr0fa6WBfCLAAAAHQGfC3RH/wAAI8M+DnjYTjRhFJK8dR4D/KmkoHuBAAAAKQGfDWpH/wAAIrI8j2pOnfRY9VZZd7JbIzw5V8rMG6Q1aXd2E8MlnRNxAAAAmUGbEkmoQWyZTAhn//6eEAAARUUlnyphtS45CcJFCuWQeBDqhfnb0qxB4GFyhMdUjypq3tI868kGryAL1Oc2UKgouJiVUDu7qw/XQJjJU1k7AC1cZfPJSsKdLoXbKB2biQhZslo7zjeli4TJgvuCdTGgBjT9R733C4VMYF+5+3MdQgwxQ5ZxN+EAxcAtFdLTm3TD6FeWEXi10wAAACxBnzBFFSwj/wAAFrxDzbcVzlt6udu7CPsZy3VtmcVpwi/rHoaH0odsx1UHBAAAABwBn090R/8AAAMB8Iy7cMISC6spsCjt5LcZkJwQAAAANwGfUWpH/wAAI7Hr/XSrO++hKj4bu65HWJaDwB+23zQ2JViaC1jy3Iytk+9uVdyfURahzawdDakAAABFQZtWSahBbJlMCGf//p4QAABFUQ439U3ONjtBSO0ficAFWHzmee7mum+S+xO5/vU3uWu833ME5mIIMPsQEBuyBhwnNNSAAAAAJEGfdEUVLCP/AAAWvEPNtxXMrKkpeT1WHbt1HqrCdMvH3yve4AAAABkBn5N0R/8AAAMB2ooebexI6R3dy2N4e3e5AAAALgGflWpH/wAAI7Hr/Awdc2BpvAcRyxoVdCxMyrNe8tvyNzXVXd/4p0WLDjtltSAAAAB2QZuaSahBbJlMCGf//p4QAABFZJ43LliQIJTlb93QqFTYCCdHmuiC+cTtuGTcU66GgD+VRzgMiLFtkCPI//5Um4l+RUB3mfTbc8m63FggJIaCCcwggozl+0hmnxH2lzhfkOjuJ4y9iXaiMtlMRCqVdLfMVxjbgQAAACZBn7hFFSwj/wAAFrxDzRymlbC0t6oxSyfiZCYGhtT4I8FmVU0OCQAAAC8Bn9d0R/8AAA0uE6bTeqMhq31DXFwOSM2+V+SBeshtQR17OSKAD5DxM1tCjy+D3AAAABsBn9lqR/8AACOxzAlvqW+yFVlTpUAHv/2SB18AAABFQZveSahBbJlMCGf//p4QAABFRGoiXTg/2X+rEe6dtQziU95YgChWb5VPsCWA5+HowoKFhun398E+v2AG63ig3bC0O2AKAAAALUGf/EUVLCP/AAAWsyu1BbkcTkAA23VKflutG1knvEOr5jbwmE+a/gToF43KgQAAACMBnht0R/8AACOr+Ft4Ep1oI4gUH3QWNNWmganv2Ao2ZlNKgQAAACIBnh1qR/8AACOxzAlvqW+yFVIl8BhmrysH7sQXM8Oe1yYEAAAAV0GaAkmoQWyZTAhf//6MsAAARgFG+nMn87Qe7Xxy3Hckjx+dbc95l3Ng7kFpI4OuROGx39YeWyxtH//x4yb2fK2O31ALiJFsHL1QgJ9R7H8yGRV0KYIBgAAAAClBniBFFSwj/wAAFrKe3jcly3TWsZg7AcNudjpCLZOCLNlakSmb8+RKgQAAACEBnl90R/8AACPAuN/ALGCkfj9mCDEK8gHvYY/Esa+17oAAAAAvAZ5Bakf/AAAjrjEv0dHo+X88dzipUZ04YOGtAxw4NHi2u+39FHmoSUG8vADi0JkAAABYQZpGSahBbJlMCF///oywAABGem89w2Vek6vlyv/6yUugKY76cJyy7HPU+cgYPgKwnXcTxqGHP4DiWWgIoBmWRspVJrkIX5AAaYOvcWejP8dI8QyBT+ckQAAAACpBnmRFFSwj/wAAFrKe3jcbRwv5dDY52GGDJUM0qVxpbC1AYkBctUwqtoEAAAAhAZ6DdEf/AAAjwxdoqbACksGKA2gwvCO4D5MDA31QhDMTAAAAKQGehWpH/wAAI7HBDZVitLg9ACS8Rhd7Kr2MAwjRbL224+VgXNSaQrO3AAAAOEGaikmoQWyZTAhf//6MsAAARAFG2J6BgIADdg+3cezJ65xobC3iFseB2Afht+vVVON6ei8xFbq3AAAAKUGeqEUVLCP/AAAWIp8JzuzEbujyrUD2G2ZauhxARiuesjnDuU3fA14MAAAAKgGex3RH/wAAIsC5lavujwrVFQmWgYFHrF8cD/H16AAA/m6kR094w1BTkgAAACQBnslqR/8AACKuMeJuEnbw+h/Mv3ad8wQ4RIbSdhvk5QSbrbkAAABIQZrLSahBbJlMCF///oywAABEAvby1oBqGjW5EUzafD0zGfVd5XCQXOqPROmvolcXfLRhoA8SIFAIvGqumXTcfSwhl6LPuLE+AAAAV0Ga7UnhClJlMFFSwz/+nhAAAENEaiJdOH/QAbVCIygCn5BegsfA0O6lOxjqkeU9Pkc+Wj7ZeiePXVTHW/pQHQrfR6E71L92CHTTd5q4BokVMaYY+uS+EAAAAD8BnwxqR/8AACKuMS/R3buA822g9jV4G4zRZ4jiXyWtEna6xGX9jfnHXvHbF0jXJc56p4ASP8zBUPRezt4l5SsAAABkQZsRSeEOiZTAhn/+nhAAAEND6kDym4a7IQVGcAhOscbDLi/gjnJm1Nq0PdTXVXjd81QHonNihZFHUasyd5CoRFY24DSEALWtwI/24cJN2sHcl8+4wXvjr2/RJZ/t/N6d5qCxJQAAAC9Bny9FFTwj/wAAFiKe3jcalY24ko2G5YnKRhx3gjRQcaU0pxqYRXgxLs5YZNWXmwAAAC0Bn050R/8AACK//tvvDs4soj9QOgZoNTZ8w2cR2n7sQ7msxQAfsnXlxMAtj4AAAAAfAZ9Qakf/AAAirjEv0XlDs822QGUnIMs3CN2oEkSFgAAAAFVBm1VJqEFomUwIZ//+nhAAAEO6bzrRaQb7c48+HvhtzzuX2KxNvWmgCH4+oqhqbsiB8J+UqgcyGogJA9p8Ap9+mDiEO3FhRvrRJK9Ku65hTnS+Ar2BAAAALkGfc0URLCP/AAAWJSTiqJt8vo60Q345xbnOEIdUwc6QRhhDioF2Su3KGhaVsT4AAAAhAZ+SdEf/AAAiqc9Ou2+QXat8fgy0kIYn0slJCDkih+t6AAAANAGflGpH/wAAIa4zQsJlepYIMiIE/sck6HAMGIjxmAHzin3yGsw2mks2etODADvZ77IP3oEAAABBQZuZSahBbJlMCF///oywAABCEKkbIJQuAy1v45Q3MpGv72izjVKURf75dAqrRZhQLfuxfeD0ramwwu4VlMlHMIAAAAA5QZ+3RRUsI/8AABWR/ZELXmngxfdeONXMvqNnavgoAWJyyhQmsx/bTpIKCoroSZPrBGDkqERHkSbBAAAAMwGf1nRH/wAAIb/+2+8O2Ify72ThBiScMu+gd8rTRN5R4EqlTKvhYcREJHXfPVI4lNS4IQAAADEBn9hqR/8AACGuMS/ReUUNp9os7P0q+dzcjsKh8J3bS5N+rabVdMDgkfFhum/XwtyoAAAAqUGb3UmoQWyZTAhf//6MsAAAQnjf4GoJvGvUrjGQPL3iqAOlzuo/rov2wyj+sYZUOXAlhbmujwKVwI3KKQMasWqM0JimHSaxEVwsxHs4etj0emFgfEkQrKp0frZAF7AVF8MdDPuMz3Saf59oEDhRqN6R6R7nPWpSRxd8p/ym3hQOqN2FrvPRcYWXiGvdtwy9MKRBguOzojEztRxT6ozD4pHjlgmBJ5uUtcEAAABQQZ/7RRUsI/8AABWbJSDxLm4GDRG2AHgqs3d4vjCrWiF32c1WAfDNlTfw6vPPfhgA49sSRMGzkCAL0yaFoA4hh1WAfDntt1ZeW4Mef+QmwIAAAAAuAZ4adEf/AAAhv/5unTfNrwuvTP64U9ZOEv5HHQIWADWBtJEyvzjUAtrjWVTTlQAAADgBnhxqR/8AACG9lag5dDjhYEB9jUqTnypai51A9xATJxSQuSHm0La6Ltm/+27kptqVi2D7Ou344QAAAGVBmgBJqEFsmUwIX//+jLAAAEJ6bz9scVCAIW5+1zLjfsW5ZsQZodaE3qYftzAhPyNuJJx49hqARQvH1tKvVe9iOH0m8EyJ7Hi3peghvFQ0Swr+7TniJ//wdyMzufKl4ZTwW53MHgAAAE5Bnj5FFSwj/wAAFZUlOO1RgdaZJJUZB8WlINlLW/T7gilBzYNpw/lQcup0DHpFAjgDlECSYc6afYEn6OueLNFoySfgMoSxGS0nqVneSjAAAAArAZ5fakf/AAAgpLDo7kuqhUHOhjjkwMkIpNwexplu4v3GrLSz/uxZIX77kwAAAGpBmkJJqEFsmUwUTC///oywAABAFFNNQ97q9MXeIgCMuizOADjpI23J3FSs16+lxamMrk7ezuiGvfxnlPv/etyr+zz2BtsRSa/jgYD3St1xiY3rgmTFf0WtHMFo1WecUiZoczKiWAIuS05UAAAAMAGeYWpH/wAAIK1F5nD6hiGx0dIbn8zRAuQn3rSJ8ULJmjQ5aIpsvnyo6J9Y9/AdMQAAAIVBmmZJ4QpSZTAhf/6MsAAAQAG9bUw94gWcQQBD/wwV3wFLXfG1GKO8oBoGgY5Yp7ntIx4+kYAks7dz+rkm8W7vg4XwPsuLYslIWnltqVOQIU9rz/VXEL9QE9DoUqiC54VO+UXGHVwiMMbg8Qqg+Oz71cDtTP4GaaLbl2f6or41DtPsw9tEAAAASEGehEU0TCP/AAAVED5YnO0MFKwwBaoE8buMA5WMLptUoGr7jhDQbNnLA3YRLSom36W+oAW02nVSfxpgJs6VdehtFPpeTNUOmQAAACgBnqN0R/8AACCpP1a7sRv2C2IJu8NZORcDJc+hBTadjVPHf+gJ2vVhAAAAJQGepWpH/wAAIL0wFzfSSvmUyfRzb5GwaBbDsX7Pcw7TgVs9WYEAAABrQZqqSahBaJlMCF///oywAAA+XLps7SQ/96/3Z7oLe96HJzU8WQvVAbDUo1dXeI86tZZUPi+pz+R/TtoKypmDlnNfbp4ADOfW8/Y7HC7pCkjzaYhhJkSK+30SC6hCAK4a5JZ1ihZSHwF1zYEAAAA7QZ7IRREsI/8AABR7NpWQ7U3msKaFzqTqe6E3lDja5sL6Zxp+10d9r4ztFZma78hVL5OqkSnzwjl35KsAAAAsAZ7ndEf/AAAfyC1UpuJJ0jfGdiAKnTLcl7l+gT4JNbvy46l9NKdusmQa8qwAAAAuAZ7pakf/AAAfZ1HQhaKhAr3Vz+xiletKtxVb5o31QRdOIeoFnWafrrR80rFKsQAAAD9BmutJqEFsmUwIX//+jLAAAD5dxgLEqMmGPkFTrBxN3lSdL/NE4kgACavgvjlx1DNB5HlMSXFcdOFEV5QgK6AAAACeQZsPSeEKUmUwIX/+jLAAAD68J0GMqKNgFMAOPADbkgvINBPl7DHy5UjCIRjk8w8tRoK4D5vjBQSBxCKlsJpZXOeDpm0dmOW7u6QWGl4JisxM64beTqO07/i3hYJgRnpT7QF0SxcydiNNblG/k/WuNYwQZMkY2RZXyR3P+e8Qh2TZLpThAhe7tL+Gn1ZB1Aq1BGHSXxRd7tgaUq1Ek4AAAABKQZ8tRTRMI/8AABRyLwj6vei/jjA1T6kjIZfflagFpdgXa1/f7nyWwJw1l2FWE28wVisYWr5t0MGSlqSCrbhq2zw9GBQzWur1ZUEAAAAqAZ9MdEf/AAAftnJAjoQaHVMZQ5GwpVW66ckXKbRLHIqEo4FZNZsmKu6BAAAAPgGfTmpH/wAAH7yLsCFDOcGHw6ecvJ+RRUYF7c30h1X1ERmrsq7trdY8AJmpM6FUTa0gGOZSbQNfSgV44PbBAAAAj0GbUUmoQWiZTBTwv/6MsAAAPPxs73IOfWxmp2JJUAHKbsJWYCNqof/TjwdSQlmJwzFCxfDADy3Ep+dMBXNXzYdxG3gGqwR3/qrJ4FsKPOYiR86Ky3bpq+SFe3LRoHKxjLZh7lSIMNjSYNh06YZo6dcigk/Ab1PA0HYrUj6ZouchlxxYqr+DHl9/1+MdmWkwAAAAMwGfcGpH/wAAHwjtiuZuNU/wa697TYehiuBv/EFjEzn9VgUUCeZMU984npM6yt5CdE1bHAAAAIVBm3VJ4QpSZTAhf/6MsAAAPPzMGAsa9QFkO1NZuY+nXxO2CABPXb0t7sSoqJqnbQkeUuq0iW3Y/Kbn6jucemUgNJ56B4oumpZ87JTRPhVJ/jf/WMv53FlG48nqlGY4NsJ58T8LUSfgmdCyZ8/ivK4DLQ/JezWc+FxanvIIT47hhZ55sYqxAAAAN0Gfk0U0TCP/AAAT4kQvRGhvzcSagCgAr3srfygjobVFp+WlFPxNc6qTZ6tglxxKOKQYd84QRisAAAAiAZ+ydEf/AAAfBnJAjoQaHVMZR5ChGjq1MSq2rpumgSQYrAAAADsBn7RqR/8AAB8I7Ta9GuXvAAxiFuyl+TJxzh93d08sYWLhmX8oR5LZCaAATUE0SfGgpklGXrH+KowmYQAAAFBBm7dJqEFomUwU8L/+jLAAAD1cJ0GGcfNOly5te43TMhJQoYQCFVYxmzelFP+tnP05Ru6TcKunLn2AFYf3v+IeAz4+n2hK6j29uZRKnj8eOAAAADcBn9ZqR/8AAB8Mp7esZAoKNzhuuyp/1xshP9EALMhaOEiTa7C38MPSbe++8nRFJWuZj8fVQrSrAAAAd0Gb20nhClJlMCF//oywAAA7p9/IXhO6tVESE/bZhc9IgAt4W85JMr3Ta+2SINgW1gg1n1g+a0LEBLshk9QLYCyeN69JFX6eZWx88UwGFil+ArCdyKKakFX4lQoNCucGTyp/5+RUCOUnMBp+cTYvOO1iI+Z3R9gXAAAAOUGf+UU0TCP/AAATVe+WI6zn/3nW1aA7hAwAUBrtAVVozCG15fnqTujLg7nQB7wjqSoWoebaA73/MAAAACoBnhh0R/8AAB5oLKKkpq4kxSaGHU/+pyQvTtRbbFBo+6rCNFDVI22ZsKkAAAAlAZ4aakf/AAAeWO02vQhhgwKyTUYP3Ad+SwIwMQW6BxMVRfVqgAAAAExBmh1JqEFomUwU8L/+jLAAADv8J0i+M14AkfAI2hZoVYiDZpuvr+WAALauYKEFPhGvAenJxA4uJlmD5tJbUBDxscVBc7YDQlT/hy5nAAAALQGePGpH/wAAHlynt6ntnY1x1lf3GtmnvSkX/ecPvbBmwrKVRvD+yRj/tldMvQAAADpBmiFJ4QpSZTAhf/6MsAAAOkffxz4oAVKk9U/jlcguaCfh0+rdo2GNzQAadR7qXsku3tgHQkdi0Z6AAAAAPkGeX0U0TCP/AAAS3TaB5XRXlsJXGAAChHuUwLr+ADrrAO7ZpaHQgshlzV8W8vA5k4EgF1vUnRRfP1v+7VlAAAAAMAGefnRH/wAAHbgtDOfqsSKNegBJc4vqZSCnlGkrz8rkBAnkYZKx7xsPscRKPcY44QAAACEBnmBqR/8AAB2o7Npw3zwwYl9xW1lZJuqc53GicXE2g3QAAABeQZpkSahBaJlMCF///oywAAA6nCc/bRu4StcWN8nK0rf95ATaSAPgAADsdwFWE0XkI+2YjdGZ5vZgRcddChw5hv+JNcV0IXA8P8n4XLA1kdHVoEqxWMsTvCvb5FY7VQAAADhBnoJFESwj/wAAEtXgy/8baNjnBLK9pteu/lJljwBWC2Mgrgxz3A7vVYBwlo8mACjlrwyCjs+4OAAAADIBnqNqR/8AAB2si7AkB+Rh/+EO9AXfUtxhZTyGgFMB50K6yF5okzLd+XeYZuINL6+CkQAAAHpBmqhJqEFsmUwIX//+jLAAADjrFnTi+WXEmFzVoA0LHhSWnmKRT40HFsF3vnlvRLo+it+9PZdfyBEY/TJK8TYHf/cu5eZ3FAm0WKZ3DmwgUlbgILdqAT1KJJtVV99E7ZG3B5QVzGm7j3ErdSDzf0Ci/sHE1wyCGVGaHQAAADpBnsZFFSwj/wAAEhyNjBhlZdpyBgzJXV2SWUg08ombZgJZks1baTyZgWb9rwwa8sbBScsFKg3JcNpBAAAAMAGe5XRH/wAAHPZzFxUOoISjD4jNKFBgwDFxPsCZ8DC4hrPK7e8UyJmwds9EI16DgQAAADEBnudqR/8AAB0GY0rEc3o+wh6LgiCc1Z9WHmdH8B3tFUZsMMiZgXaz1t4/o5Z0+sHAAAAAbkGa6kmoQWyZTBRML//+jLAAADk8Jz/dKUQB7BTLHGuUSodA4XzjwLkGcojAAfUFAB+2dow+nONHctYNm2AWm3pTbGxmx9G2I4OzGwmmcZjT4ilGscqGzVfR/28gUBhGfeOELvCPWLYlB/eeoQBwAAAANgGfCWpH/wAAHPjtNr0IYUDDsa2M3AYtwMs6vb1b9Y1iUhQpKH5v/MbIO94+Qft1w656MAIswQAAAIZBmw5J4QpSZTAhf/6MsAAAN5dipbIZFb5teFGhstK44EJd6jiPz9fePTauU86xo0m1WQAXmU4wR+VR5uYQHNzXntZW08lHNy+c0ig2aWqDVQCZRR/WcDrRTGv+/5ng7UvDFtd0QNIjNvwThz+exg2g7XnBvtfy8y+J6RgqUNAZr4He9bEXwAAAADhBnyxFNEwj/wAAEd02leGq2wl27YxV2zk2/qFnF/rDT+yBXd+VM0JamxQp9aGkVh2rSj+oJYh0wAAAADUBn0t0R/8AABxYLQzfO5bnbs/FT20RBSb3CPNnEJ1XbEQ2968+1fv374buhSw9ZLiSzkPSQQAAAEkBn01qR/8AABxIBhehcm9yZ8iZXcN6cDVrWWOCwO2L1E0Ro5jIjRiYH1gBuw5JFs3OiArJf1ttUNiwAtz27zQUiqZltwp+EFdBAAAAWUGbUUmoQWiZTAhf//6MsAAAN9wnPdSfWD2YwL4n/Jpm0kx601ugMAT4ME4qI1uisO/QmsUm9FbCPFzWTsv3YFLsfP6NN25jfo/Qj+KftVkPAztztxC34gchAAAAU0Gfb0URLCP/AAAR3V9utGaBQJIhNBpWKKlYAOKgDA9vi9QQ8wwv+suvF+utlQ5kYIuqPeYFBTiQuAsyuKy5IXmsZElD1h1DH4QWZXlXwIX+J4N/AAAAPQGfkGpH/wAAHEgF9fDvFU6/Sh1k6gAtGddAm/lK4bp3PPx3HRlxujluyEe2prMs/5WmQWV2KNGLQK3+vH8AAABNQZuVSahBbJlMCF///oywAAA2SzKiTVB0n0j2hQocgF6uRtbuTi7OLAf618RKBIVZIU0yAgR96NIAaoTsCb+RUCQFBgInWbULfEnDPYEAAABCQZ+zRRUsI/8AABFV4LvspXAUA1PYZ7d3kiBqCihN8Zc3QoZLvJh337f4Jx05s5q8lkLMP9Yc2Ayv9HdU/GqlAGvkAAAALwGf0nRH/wAAG5o2zoW0T8Cb4Pj/RXf33VspQJGfKIxrcJIt7pBWiADfo+7NMopAAAAAOAGf1GpH/wAAG5xfY/SNieAFk4AuQE7IZn9LWEnKknuf/28kx0fJJIuhS+ETfZIxSmW51PtcKstJAAAAaEGb2EmoQWyZTAhf//6MsAAANpwnPdKNWD1/WqnO/kpIu3yn/a6/3bdWu9NsRgB/Wrp5+cfGenAcEaf9Iw2knc9BADj0eBCGCNnH6LZ3Cb6OpB5hYCL4hGg64FYx761iPBvHmkWRDxJAAAAAMEGf9kUVLCP/AAARXV9utGCTe8Xp/UoqBN3y3Vh7CCJsiyRKncPnWW5ajMhHRw84+QAAAEYBnhdqR/8AABun2nqxKqliUheS426Tka8mVVfF0zhj5trPvThRBQ7/mSm2iCGfmFKTLH12IwATt3F2B2cb6fvTMaeMjsfBAAAAZ0GaHEmoQWyZTAhf//6MsAAANQs5qJz8gBpD/JlASNo3UuIbubZK6DYbRxTzxO9c+8ckr7zKGUxsCpbIxji4DdQwkyDSv1bAy42DV17n/27qlzlJRrhRdxgfvEsuJXGqx9FM/zc48nYAAABJQZ46RRUsI/8AABDV7477OKWYAC6guN7aN+GiTawPys8qkboyi4XNj2JwdN+6smgAIVJLjtIvfHIjaqQJXVPMA2+ISoWZ3RcGHQAAACgBnll0R/8AABr5wxHwAQmz0+tjp4OfRCGHsz0C7/PQNayXxuK6RsI+AAAAOgGeW2pH/wAAGvuDa3sopkALbNsNVIRdv9BvG9LZaNmpipJadAJ39wxt93uS1Jb8GbqrfeQzE0QGRmEAAABUQZpeSahBbJlMFEwv//6MsAAANQr+cP90+7WAki61P0QArJdijz8DokvyZ7Jkh5GxBn+Bx3ZTElfURQoHtIhgR8wricRpqg4KP2dRmZBuczVlAkcVAAAAKwGefWpH/wAAGvxeZwhNGIJ0m8ZCfCCh//MbR1xUaTnXiwwoMx7hdavdvZ8AAABmQZp/SeEKUmUwIX/+jLAAADVcJz3fZcHrT2SmAAF1tWPfYZgJ9V5ncVBIIaos93zeZFglS6agRnwvWxFkrAA3YP1SdhVJbU/Chb3vpUZRETDrpLaGXJ6H8mdbHpG2DLan77feCIhgAAAAZkGag0nhDomUwIX//oywAAAzyzKiTVAd8nmAdnHFHZlABuhv6cQEUh4iTysGke325XSu/VE+zzWt9KD+FUJnL7/bsy//mw3rxp3gEZS73JFCO+zu+4iQtOjgx0oAzuCtJpk8KvrWgQAAAEhBnqFFETwj/wAAEFXgzEZ1KGGZDUANw1WUthyTpgX+6Ss+J4ruDi0ZCQn6ySojasfnKs1UqvpOiB/T+btUVmcx1O1yU3P2SPAAAAAyAZ7AdEf/AAAaWjbOjNqxzsetSTBa2h++f8fj0mS8Fm2Yxv2v9hAQiM6QSyX4a7DpIlMAAAAuAZ7Cakf/AAAaXF/SZ3SK8RyXC+klKcwk9fEUI8D9iaaiXlx1OTrKJnccmQ8PQAAAAIhBmsRJqEFomUwIZ//+nhAAADNsgPlN5GAQYHagVo27aX6V0Vla5rzOBbd/05W8Z/iLv/9SgAm8uGjawOrrpE4Cm///mTo5+RqY4LAauX7bjTb52rqwR5hny5hsgnTtVHhYy0izmh6twSo08SVsx59pMr92dz7VzYOSCHE1ZPle324gGv9YFmshAAAAcUGa6EnhClJlMCGf/p4QAAAzvCc8To5IOkXlZwlxImkJEi5l3WddDN0PXQoDcE/PiDjTV8H+fIEEKk23sALZ0TmTQc4XU0LfybSjJOQ2bvqdpirrksBgKGM8nLCy/7jSyz0aLQJq3+KiWN54o08bQ27FAAAAR0GfBkU0TCP/AAAQXTaMwwMro0+yLir+sn0net9F96HoAXZI8wgDnTcFtk02pNZPys4Gh3UUwX/gFlyNxC1rjrLtcvNOtlm7AAAALAGfJXRH/wAAGmltvKSuj73VNcmvhkwD5GGoVI4mOPomLO+uEQkeZ75uDyZhAAAAKQGfJ2pH/wAAGl9hHA9YE2pkZRQBf7wrGyxL/WGI8CdLPABBGoreMheAAAAAVkGbLEmoQWiZTAhf//6MsAAAMos2qJyKNRwW7lV2EqKuUrV1RR+xu8CSBqvXV5KLmcSAFuvWH27VoofU/CcZugfb273g7AP7WuY1J9RV43sPPAKzW+qAAAAAQEGfSkURLCP/AAAP431FV66MdcEatOKwKbgXOdfnKAHHa0ik/MWhYKqNyAQkLS3FdG1ptBg3eMa74nvLhjHDWXEAAAA1AZ9pdEf/AAAZyW3SRHtWM8QAswOhQuwdwT/dobOmnqIV+hV3ddv5rrCwfPyFXOj38WM3JHAAAAAmAZ9rakf/AAAZx9pD1kHkYgYYOdCvc1btP1JVvTQKbWKtEmHwkcAAAABhQZtvSahBbJlMCGf//p4QAAAyfCc60WkHSMsBAQAgj/D678ktiyn4HuC1lQphHl1fflr2wo2xUS3Xm0Q3s8PZiXXd/IIXKy32LSnoaagjBhZvRQ6S5VrdOHhV+GKX6IlfgQAAADBBn41FFSwj/wAAD947VP1dyOVkzkGt4sjY30zrBlVy62RmK6JLwj5u8vBtrnocdi8AAAAqAZ+uakf/AAAZt3Q0Q/IzeshneV9HQj8yAgAJgA4ME6D4wzkf+dLNOQSPAAAAY0Gbs0moQWyZTAhf//6MsAAAMUsyok1PhOLYANaTox8HyPHfssqG5CbrSUnQXuvCHmuyK5gPOfEzputz2TKa7y31iXCn8FJxHYV8xolYqKTQrRnyLt2AG5dvC31/JyuixSQMhgAAAEpBn9FFFSwj/wAAD4Y7SQWvNPLzki/1e4OL2hww/3opRXZRg2rQI4paVaPstKTmN96LmbqpShpcvZ7YWYKS6psNyCl7wUdFX1Ss3AAAACsBn/B0R/8AABkpbhiiJmeQc6HYHdqyqMVc7Qa4IJzXH85QEttUHj0RH8MpAAAALAGf8mpH/wAAGRxfY/SGP0yXmQY1zyz7eFpb9sENDekmPASlnqbqBBFpiSmAAAAAbEGb90moQWyZTAhf//6MsAAAMZwnPdVOVg9amxsNEhnkoBYIQPQpMP5hKCgB4bGEJfbCyZZ3upMw5L7545uGW2VT3wUdae0jgDNZKJImzLmoXqPKbJ57W5GYS50lprRGvnHNMAtQ7g94bALh8QAAAEBBnhVFFSwj/wAAD4t9Uk1Zw8UuCu+xy1CJqbZg40893D0X92O/uKwzctVu5AJbJmi67kSCAC5KdqphQezVzRDdAAAAKgGeNHRH/wAAGSltvKRx69vvJa2onNojqrf0b//CRy3Vj/PDIiselT+z4AAAACYBnjZqR/8AABkfY7AkCISOY75hhk8SXV7PeNhL58bKjkrv4W4bgQAAAHdBmjlJqEFsmUwUTC///oywAAAwFH007l/9/SwoQseR+ftYHL30pa0LV/xgGRmHR2wBF20AJT5Ob8eeiKm4UQsD2rk2uLoxMsHmwep+d/7DCLcfomgAf8nUMr1qH7gM6wGI1uefZBTxZSvr4MAFhnchk7Dp7IpVoQAAAC4BnlhqR/8AABh9CdaYDiWKaWLNppDbtf7eUN9vM7kRCTsPF0k0tL9YmUFUalj4AAAAhkGaXUnhClJlMCF//oywAAAwCyaiTVRF4oAKAymOSai3VUsKEQd898Bnbf63SV22t6L+QChE9/OgEXUg4rAgNJ3bhfmA/LmtOS2rIIFGqyyuVF6llH//h4wJVSmpk3MYLinNpSrKvfaSZPpKlega5zBBgihavIZNopiJQz/AYIaD0Z+0877RAAAAOUGee0U0TCP/AAAPLjtJBbImShAZZlcIn1fVtjlNH0i1VqMQ3HEfT+Lr8oGEyDEQe3jkEkPfqbcsggAAADMBnpp0R/8AABiJbgz2Xzn5nMvVCfV+QzBj3wA7oS6NeuY90ZlDM2fkSRnftfwh439wtBEAAAAwAZ6cakf/AAAYfF+hqkSx5T++BPZjnuOq/LSnU+FpBExSYOosnU6O6GH6A/vEFpdBAAAAe0Gan0moQWiZTBTwv/6MsAAAMFwnPcutXpuxDjxH4EAQjG2eEiFqy77K34N0mPxGgkWvswwpT2cN/CiQkAGQCyIvkahMLXuwi14+q6SAqyR5VFNkgg7EtbotqpqZrTBUB9TiW29AwUtbTaXfnNiKtW+hSfokLZeFycoASAAAADABnr5qR/8AABh8X6GqL2+662+CBJSLxK5m2ykMRG9fLzIqaFCtCm36zIHlKTOOqoAAAAC1QZqjSeEKUmUwIX/+jLAAAC7VG+UlUANMQkwEXDllDP7fB1bXHVZ8uvw+JebW9V2mS+5OOW/5eoEHfvZGS0rEILL/3A0RQBnhVnnUSFOCgt7510HrssCncKugZbTqOfb/Yt4SPte5YP14HSFsfrwDH5JHjKMQSm/DqQe04lAXRbxMHmhwwsw/FUN2VSZoZg/UxzNVLmgp3FgP7PXHHw8HUPTJLKfmo0kHdPN+fXF09KYGB6WX0QAAAFNBnsFFNEwj/wAADttw+07vunaWmvVKcVk6BahXqUC8SNWLxQ8Q+vGN2tq943dGXsB6L4eWaV1Frp1UXz1Fbav5RDln6bt/rAAJxipz4P+zIx+2YAAAAD8BnuB0R/8AABfp7/qn5Ww+eDkEc5fpDkVUzWEnS/pgNfaKSAzCoNvOKkhIuATyuUdBMjPOa5Wcw9LxmOg91EkAAAA/AZ7iakf/AAAX3QlZJmbvqZNQ34soDJRbF1ru+zaROk6KPuTUAn2auyojgax9cK71d4Zmemkb3L6Mb2XB770hAAAAO0Ga5UmoQWiZTBTwz/6eEAAALnWwjVNvu9DHBRpdKVcRc0AFMdbXzDco7matiU62XQlXt5EEfXfdq0XBAAAAMwGfBGpH/wAAF9xfoaovKHZ5uiDutvUsTg4zLLgQ1p1Q4v6e7EAJ1SY1txdut4epohrMwQAAAGBBmwlJ4QpSZTAhf/6MsAAALxzLkGVxmVek8p64AxsF/h9wwu7XZ3+cFRUkxC4gh+1Q9vSYJ4WXFXFajzD/oO9XxmXFcY7npIo0amCQt2JR21kikiBA8d50MQIWS2mHdYEAAAA+QZ8nRTRMI/8AAA7X/mJ8NXbN6bCZ2WlT9k2dQHR4z4aQuUVEKoUiIAWZsubAFz2UmDY9LTCwDK9pn6SKF4EAAABAAZ9GdEf/AAAX2cabAoKmV8AFCpvC5xI3+hZKSTBpAVJgnE3BWwJLAbroBLENGHSALaMxdNABOL19IqUHfq2rwAAAADABn0hqR/8AABdLnx8t0Eb4Lk9O1WCmkIVZz9TJs1tJKrpZkOSXWcSo9IKRcU4CCF0AAACfQZtNSahBaJlMCF///oywAAAtvoZVFu3eNIbY3rAS0zeXRZxNGV4xXsuI616iG6E4WDjuo9w9OzHy2cIZHg19kKtB3nmzWxbewuQb9Qt8bkwgmaoid3RoPGAxzT6QTQLvcUO/7ykMJyF/VQaltb0lgoi0RdIhYFxCyBPkimzlUl2U84LI2axqdHVzKdLYJyxa65KNusicDiWdJlFGtCuTAAAAZUGfa0URLCP/AAAOg4SCDAoLeM1I5EvrFTMXQVUbKCCKggc2TqW75UecqM+4IZFQAtMgdhmZEeRSTsIHalgooDTbSpent4ZgmnVirKKahM9v5CKsBcMS8eLlmUwWRbqksjkE23jmAAAAMwGfinRH/wAAFwB5Nqsu5yLZeiEcfK/4uausQMH75RxTq7ek7GB8G7FFQgea+S/+gEkrpAAAADoBn4xqR/8AABdBR1fQhnJUHEGb54LjBuKu/2+o61Ds9z3Y87bpbJfsLk4Tpn1fKtvdNdsGEIxJ+2BnAAAAcUGbkUmoQWyZTAhf//6MsAAALfzLjzicLA4++y9ISFHtDzWJzIBmt31N3zu7ABPF9sMxZLfd2TbIBNdwGPXEvA22GUwlS/DBsL+lW05xqU26eIh/AkryffVrC2w6RTOrxpj+Ld5JtUhjlKLJ1D6olV3hAAAAVkGfr0UVLCP/AAAOf/FyLAAKqyFHsKqBVBmFTqQqtTzjY6i9b9RcotC7TiqtylJ7g5ndJ02p/N1mm/vFo6So+bSOg3Ll+OGJHTwLnBKCo9fyd6/Y4QMxAAAAKgGfznRH/wAAF0FGsUllYhMx3QttslZjkV8oR3TNYoxMopmnwijixsvtsAAAACkBn9BqR/8AABayjucwbXWo9goCJD903nrdCnbdiS9Y8IA/wC90HFiD+QAAAH5Bm9NJqEFsmUwUTC///oywAAAslNHOYgBtTgcxufP8uHRbNEvCCRRC4n3s+pEt8wVI+HbGWNqAVkFDig2i9Bf78LDBCMnE+TsHG/NSUPY5VT//7skQqvQTnDubASM0jxn5tFRSeXr5M/SuhRgiNmBFKJmH+lx2xCq5kERcVh0AAABMAZ/yakf/AAAWu58CuJA3rYxu0c4Mx1u8qLO5KsG5BZplMRJUGn+HgTTQNf1XdgbTrnFpcNVIUB6SpQi37TFAK6Kzg2odP/qHyBqCSAAAAJdBm/dJ4QpSZTAhP/3xAAADAaff9fEK40IpADYJ+InehA/MjLn8vdX3F9fD3bH8Hse7EGpdksV4b1nvjbqP/bwLb2Oq3LMjyqjXezk1Y9vvQt/lUYMTp1/MjUUIwfzTDTeRsfZ8HTxKm3T13ER/2FXhvzY1OizOvvxXdcOe7zfTSGiBJYnz3cEo+yvnAvfn8ujdF2xuKj8oAAAAd0GeFUU0TCP/AAAOJjsfWRH/33yhEIspES+IBYmlRauZJoBpvLT3L/s/Bfsndt557GCxkNg7ZNyZnOpd6epTqw1xWJFxXz0CZsXJ5k7FVJqZOfA3820+ClirIMMOX0eDVoWZCFpVU6KPWAu3cVa9xqH83XjoZJENAAAATgGeNHRH/wAAFq/IBX0AFs0vhRAtfGzhKkNfvZpX93IJAzADjLsGMuYnLgt7MKJfYGthiw3SkqPnS89/q+cxiM8FjMqjcr+Ldqqk+whgggAAAD8BnjZqR/8AABa00xGdmNs0hI6SKDGtnQtjssxkeWgfanGLnxkEpXhGuB214KchACyUrBXWf9vxqvadJqGJvFkAAAA9QZo5SahBaJlMFPH//IQAAAnz0NJhArhi1RCgewmxZwwjN1yWNVaxS5ABOrnO4yJPPbiIn/dtKuha8xm+YQAAACcBnlhqR/8AABYh/0CaoqmZW+XuS4OnE91/mzgA3MZeILo49IYb7BYAAAujbW9vdgAAAGxtdmhkAAAAAAAAAAAAAAAAAAAD6AAADogAAQAAAQAAAAAAAAAAAAAAAAEAAAAAAAAAAAAAAAAAAAABAAAAAAAAAAAAAAAAAABAAAAAAAAAAAAAAAAAAAAAAAAAAAAAAAAAAAAAAAAAAgAACs10cmFrAAAAXHRraGQAAAADAAAAAAAAAAAAAAABAAAAAAAADogAAAAAAAAAAAAAAAAAAAAAAAEAAAAAAAAAAAAAAAAAAAABAAAAAAAAAAAAAAAAAABAAAAAAlgAAAGQAAAAAAAkZWR0cwAAABxlbHN0AAAAAAAAAAEAAA6IAAACAAABAAAAAApFbWRpYQAAACBtZGhkAAAAAAAAAAAAAAAAAAAyAAAAugBVxAAAAAAALWhkbHIAAAAAAAAAAHZpZGUAAAAAAAAAAAAAAABWaWRlb0hhbmRsZXIAAAAJ8G1pbmYAAAAUdm1oZAAAAAEAAAAAAAAAAAAAACRkaW5mAAAAHGRyZWYAAAAAAAAAAQAAAAx1cmwgAAAAAQAACbBzdGJsAAAAmHN0c2QAAAAAAAAAAQAAAIhhdmMxAAAAAAAAAAEAAAAAAAAAAAAAAAAAAAAAAlgBkABIAAAASAAAAAAAAAABAAAAAAAAAAAAAAAAAAAAAAAAAAAAAAAAAAAAAAAAAAAAGP//AAAAMmF2Y0MBZAAf/+EAGWdkAB+s2UCYM+XhAAADAAEAAAMAZA8YMZYBAAZo6+PLIsAAAAAYc3R0cwAAAAAAAAABAAAAugAAAQAAAAAUc3RzcwAAAAAAAAABAAAAAQAABbhjdHRzAAAAAAAAALUAAAABAAACAAAAAAEAAAUAAAAAAQAAAgAAAAABAAAAAAAAAAEAAAEAAAAAAQAAAwAAAAABAAABAAAAAAEAAAUAAAAAAQAAAgAAAAABAAAAAAAAAAEAAAEAAAAAAQAABQAAAAABAAACAAAAAAEAAAAAAAAAAQAAAQAAAAABAAAFAAAAAAEAAAIAAAAAAQAAAAAAAAABAAABAAAAAAEAAAUAAAAAAQAAAgAAAAABAAAAAAAAAAEAAAEAAAAAAQAABQAAAAABAAACAAAAAAEAAAAAAAAAAQAAAQAAAAABAAAFAAAAAAEAAAIAAAAAAQAAAAAAAAABAAABAAAAAAEAAAUAAAAAAQAAAgAAAAABAAAAAAAAAAEAAAEAAAAAAQAABQAAAAABAAACAAAAAAEAAAAAAAAAAQAAAQAAAAABAAAFAAAAAAEAAAIAAAAAAQAAAAAAAAABAAABAAAAAAEAAAIAAAAAAQAAAwAAAAABAAABAAAAAAEAAAUAAAAAAQAAAgAAAAABAAAAAAAAAAEAAAEAAAAAAQAABQAAAAABAAACAAAAAAEAAAAAAAAAAQAAAQAAAAABAAAFAAAAAAEAAAIAAAAAAQAAAAAAAAABAAABAAAAAAEAAAUAAAAAAQAAAgAAAAABAAAAAAAAAAEAAAEAAAAAAQAABAAAAAACAAABAAAAAAEAAAMAAAAAAQAAAQAAAAABAAAFAAAAAAEAAAIAAAAAAQAAAAAAAAABAAABAAAAAAEAAAUAAAAAAQAAAgAAAAABAAAAAAAAAAEAAAEAAAAAAQAAAgAAAAABAAAFAAAAAAEAAAIAAAAAAQAAAAAAAAABAAABAAAAAAEAAAMAAAAAAQAAAQAAAAABAAAFAAAAAAEAAAIAAAAAAQAAAAAAAAABAAABAAAAAAEAAAMAAAAAAQAAAQAAAAABAAAFAAAAAAEAAAIAAAAAAQAAAAAAAAABAAABAAAAAAEAAAMAAAAAAQAAAQAAAAABAAAFAAAAAAEAAAIAAAAAAQAAAAAAAAABAAABAAAAAAEAAAQAAAAAAgAAAQAAAAABAAAFAAAAAAEAAAIAAAAAAQAAAAAAAAABAAABAAAAAAEAAAMAAAAAAQAAAQAAAAABAAAFAAAAAAEAAAIAAAAAAQAAAAAAAAABAAABAAAAAAEAAAQAAAAAAgAAAQAAAAABAAAFAAAAAAEAAAIAAAAAAQAAAAAAAAABAAABAAAAAAEAAAQAAAAAAgAAAQAAAAABAAAFAAAAAAEAAAIAAAAAAQAAAAAAAAABAAABAAAAAAEAAAMAAAAAAQAAAQAAAAABAAACAAAAAAEAAAUAAAAAAQAAAgAAAAABAAAAAAAAAAEAAAEAAAAAAQAAAgAAAAABAAAFAAAAAAEAAAIAAAAAAQAAAAAAAAABAAABAAAAAAEAAAUAAAAAAQAAAgAAAAABAAAAAAAAAAEAAAEAAAAAAQAABAAAAAACAAABAAAAAAEAAAUAAAAAAQAAAgAAAAABAAAAAAAAAAEAAAEAAAAAAQAABQAAAAABAAACAAAAAAEAAAAAAAAAAQAAAQAAAAABAAADAAAAAAEAAAEAAAAAAQAABQAAAAABAAACAAAAAAEAAAAAAAAAAQAAAQAAAAABAAADAAAAAAEAAAEAAAAAAQAABQAAAAABAAACAAAAAAEAAAAAAAAAAQAAAQAAAAABAAADAAAAAAEAAAEAAAAAAQAABQAAAAABAAACAAAAAAEAAAAAAAAAAQAAAQAAAAABAAAFAAAAAAEAAAIAAAAAAQAAAAAAAAABAAABAAAAAAEAAAUAAAAAAQAAAgAAAAABAAAAAAAAAAEAAAEAAAAAAQAAAwAAAAABAAABAAAAAAEAAAUAAAAAAQAAAgAAAAABAAAAAAAAAAEAAAEAAAAAAQAAAwAAAAABAAABAAAAABxzdHNjAAAAAAAAAAEAAAABAAAAugAAAAEAAAL8c3RzegAAAAAAAAAAAAAAugAABL4AAAB6AAAAPgAAACcAAAAuAAAAsgAAAD8AAACpAAAANgAAAD8AAAAgAAAAtgAAAEoAAAAhAAAALQAAAJ0AAAAwAAAAIAAAADsAAABJAAAAKAAAAB0AAAAyAAAAegAAACoAAAAzAAAAHwAAAEkAAAAxAAAAJwAAACYAAABbAAAALQAAACUAAAAzAAAAXAAAAC4AAAAlAAAALQAAADwAAAAtAAAALgAAACgAAABMAAAAWwAAAEMAAABoAAAAMwAAADEAAAAjAAAAWQAAADIAAAAlAAAAOAAAAEUAAAA9AAAANwAAADUAAACtAAAAVAAAADIAAAA8AAAAaQAAAFIAAAAvAAAAbgAAADQAAACJAAAATAAAACwAAAApAAAAbwAAAD8AAAAwAAAAMgAAAEMAAACiAAAATgAAAC4AAABCAAAAkwAAADcAAACJAAAAOwAAACYAAAA/AAAAVAAAADsAAAB7AAAAPQAAAC4AAAApAAAAUAAAADEAAAA+AAAAQgAAADQAAAAlAAAAYgAAADwAAAA2AAAAfgAAAD4AAAA0AAAANQAAAHIAAAA6AAAAigAAADwAAAA5AAAATQAAAF0AAABXAAAAQQAAAFEAAABGAAAAMwAAADwAAABsAAAANAAAAEoAAABrAAAATQAAACwAAAA+AAAAWAAAAC8AAABqAAAAagAAAEwAAAA2AAAAMgAAAIwAAAB1AAAASwAAADAAAAAtAAAAWgAAAEQAAAA5AAAAKgAAAGUAAAA0AAAALgAAAGcAAABOAAAALwAAADAAAABwAAAARAAAAC4AAAAqAAAAewAAADIAAACKAAAAPQAAADcAAAA0AAAAfwAAADQAAAC5AAAAVwAAAEMAAABDAAAAPwAAADcAAABkAAAAQgAAAEQAAAA0AAAAowAAAGkAAAA3AAAAPgAAAHUAAABaAAAALgAAAC0AAACCAAAAUAAAAJsAAAB7AAAAUgAAAEMAAABBAAAAKwAAABRzdGNvAAAAAAAAAAEAAAAwAAAAYnVkdGEAAABabWV0YQAAAAAAAAAhaGRscgAAAAAAAAAAbWRpcmFwcGwAAAAAAAAAAAAAAAAtaWxzdAAAACWpdG9vAAAAHWRhdGEAAAABAAAAAExhdmY1Ny44My4xMDA=\" type=\"video/mp4\" />\n",
              "            </video>"
            ]
          },
          "metadata": {}
        },
        {
          "output_type": "execute_result",
          "data": {
            "text/plain": [
              "185.0"
            ]
          },
          "metadata": {},
          "execution_count": 31
        }
      ]
    },
    {
      "cell_type": "markdown",
      "source": [
        "지금까지 배운 Q Learrning은 여러가지 문제의 정답을 잘 구하는 모습을 보였지만,\n",
        "\n",
        "state와 action 공간의 크기에 큰 영향을 받고, 조금만 커져도 학습이 잘 안되는 모습을 확인할 수 있었습니다.\n",
        "\n",
        "다음 시간에는 Deep Learning을 활용한 Deep Q Learning을 시작으로, \n",
        "\n",
        "Table 기반이 아닌 Deep Reinforcement Learning을 통해 이러한 공간적인 제약을 해결하고, 훨씬 더 어렵고 복잡한 문제들로 scope를 넓힙니다."
      ],
      "metadata": {
        "id": "HSls1cSGBd3z"
      }
    }
  ],
  "metadata": {
    "colab": {
      "provenance": [],
      "include_colab_link": true
    },
    "kernelspec": {
      "display_name": "Python 3",
      "name": "python3"
    },
    "accelerator": "GPU"
  },
  "nbformat": 4,
  "nbformat_minor": 0
}