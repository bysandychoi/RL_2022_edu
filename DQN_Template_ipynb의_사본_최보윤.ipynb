{
  "cells": [
    {
      "cell_type": "markdown",
      "metadata": {
        "id": "view-in-github",
        "colab_type": "text"
      },
      "source": [
        "<a href=\"https://colab.research.google.com/github/bysandychoi/RL_2022_edu/blob/main/DQN_Template_ipynb%EC%9D%98_%EC%82%AC%EB%B3%B8_%EC%B5%9C%EB%B3%B4%EC%9C%A4.ipynb\" target=\"_parent\"><img src=\"https://colab.research.google.com/assets/colab-badge.svg\" alt=\"Open In Colab\"/></a>"
      ]
    },
    {
      "cell_type": "code",
      "execution_count": null,
      "id": "92c4fbe8-1e38-4dc2-b8dc-0d5af98c10d0",
      "metadata": {
        "id": "92c4fbe8-1e38-4dc2-b8dc-0d5af98c10d0",
        "colab": {
          "base_uri": "https://localhost:8080/"
        },
        "outputId": "fca69599-966c-4f7f-ad03-044e5125e0fc"
      },
      "outputs": [
        {
          "output_type": "stream",
          "name": "stdout",
          "text": [
            "Reading package lists... Done\n",
            "Building dependency tree       \n",
            "Reading state information... Done\n",
            "python-opengl is already the newest version (3.1.0+dfsg-1).\n",
            "ffmpeg is already the newest version (7:3.4.11-0ubuntu0.1).\n",
            "xvfb is already the newest version (2:1.19.6-1ubuntu4.11).\n",
            "The following package was automatically installed and is no longer required:\n",
            "  libnvidia-common-460\n",
            "Use 'apt autoremove' to remove it.\n",
            "0 upgraded, 0 newly installed, 0 to remove and 12 not upgraded.\n",
            "Looking in indexes: https://pypi.org/simple, https://us-python.pkg.dev/colab-wheels/public/simple/\n",
            "Requirement already satisfied: gym==0.22 in /usr/local/lib/python3.7/dist-packages (0.22.0)\n",
            "Requirement already satisfied: pyvirtualdisplay in /usr/local/lib/python3.7/dist-packages (3.0)\n",
            "Requirement already satisfied: pygame in /usr/local/lib/python3.7/dist-packages (2.1.0)\n",
            "Requirement already satisfied: numpy>=1.18.0 in /usr/local/lib/python3.7/dist-packages (from gym==0.22) (1.21.6)\n",
            "Requirement already satisfied: importlib-metadata>=4.10.0 in /usr/local/lib/python3.7/dist-packages (from gym==0.22) (4.13.0)\n",
            "Requirement already satisfied: cloudpickle>=1.2.0 in /usr/local/lib/python3.7/dist-packages (from gym==0.22) (1.5.0)\n",
            "Requirement already satisfied: gym-notices>=0.0.4 in /usr/local/lib/python3.7/dist-packages (from gym==0.22) (0.0.8)\n",
            "Requirement already satisfied: zipp>=0.5 in /usr/local/lib/python3.7/dist-packages (from importlib-metadata>=4.10.0->gym==0.22) (3.9.0)\n",
            "Requirement already satisfied: typing-extensions>=3.6.4 in /usr/local/lib/python3.7/dist-packages (from importlib-metadata>=4.10.0->gym==0.22) (4.1.1)\n",
            "Looking in indexes: https://pypi.org/simple, https://us-python.pkg.dev/colab-wheels/public/simple/\n",
            "Requirement already satisfied: pyglet in /usr/local/lib/python3.7/dist-packages (1.5.27)\n",
            "Looking in indexes: https://pypi.org/simple, https://us-python.pkg.dev/colab-wheels/public/simple/\n",
            "Requirement already satisfied: gym[classic_control]==0.22 in /usr/local/lib/python3.7/dist-packages (0.22.0)\n",
            "Requirement already satisfied: importlib-metadata>=4.10.0 in /usr/local/lib/python3.7/dist-packages (from gym[classic_control]==0.22) (4.13.0)\n",
            "Requirement already satisfied: numpy>=1.18.0 in /usr/local/lib/python3.7/dist-packages (from gym[classic_control]==0.22) (1.21.6)\n",
            "Requirement already satisfied: cloudpickle>=1.2.0 in /usr/local/lib/python3.7/dist-packages (from gym[classic_control]==0.22) (1.5.0)\n",
            "Requirement already satisfied: gym-notices>=0.0.4 in /usr/local/lib/python3.7/dist-packages (from gym[classic_control]==0.22) (0.0.8)\n",
            "Requirement already satisfied: pygame==2.1.0 in /usr/local/lib/python3.7/dist-packages (from gym[classic_control]==0.22) (2.1.0)\n",
            "Requirement already satisfied: typing-extensions>=3.6.4 in /usr/local/lib/python3.7/dist-packages (from importlib-metadata>=4.10.0->gym[classic_control]==0.22) (4.1.1)\n",
            "Requirement already satisfied: zipp>=0.5 in /usr/local/lib/python3.7/dist-packages (from importlib-metadata>=4.10.0->gym[classic_control]==0.22) (3.9.0)\n",
            "Looking in indexes: https://pypi.org/simple, https://us-python.pkg.dev/colab-wheels/public/simple/\n",
            "Requirement already satisfied: gym[box2d]==0.22 in /usr/local/lib/python3.7/dist-packages (0.22.0)\n",
            "Requirement already satisfied: importlib-metadata>=4.10.0 in /usr/local/lib/python3.7/dist-packages (from gym[box2d]==0.22) (4.13.0)\n",
            "Requirement already satisfied: numpy>=1.18.0 in /usr/local/lib/python3.7/dist-packages (from gym[box2d]==0.22) (1.21.6)\n",
            "Requirement already satisfied: cloudpickle>=1.2.0 in /usr/local/lib/python3.7/dist-packages (from gym[box2d]==0.22) (1.5.0)\n",
            "Requirement already satisfied: gym-notices>=0.0.4 in /usr/local/lib/python3.7/dist-packages (from gym[box2d]==0.22) (0.0.8)\n",
            "Requirement already satisfied: pygame==2.1.0 in /usr/local/lib/python3.7/dist-packages (from gym[box2d]==0.22) (2.1.0)\n",
            "Requirement already satisfied: box2d-py==2.3.5 in /usr/local/lib/python3.7/dist-packages (from gym[box2d]==0.22) (2.3.5)\n",
            "Requirement already satisfied: zipp>=0.5 in /usr/local/lib/python3.7/dist-packages (from importlib-metadata>=4.10.0->gym[box2d]==0.22) (3.9.0)\n",
            "Requirement already satisfied: typing-extensions>=3.6.4 in /usr/local/lib/python3.7/dist-packages (from importlib-metadata>=4.10.0->gym[box2d]==0.22) (4.1.1)\n"
          ]
        }
      ],
      "source": [
        "!apt-get install xvfb python-opengl ffmpeg -y\n",
        "!pip install gym==0.22 pyvirtualdisplay pygame\n",
        "!pip install pyglet\n",
        "!pip install gym[classic_control]==0.22\n",
        "!pip install gym[box2d]==0.22"
      ]
    },
    {
      "cell_type": "markdown",
      "source": [
        "학습 visualization을 위한 코드입니다."
      ],
      "metadata": {
        "id": "glZkUJvcs88R"
      },
      "id": "glZkUJvcs88R"
    },
    {
      "cell_type": "code",
      "execution_count": null,
      "id": "4d14f96d-e410-4788-8993-cb823a11d511",
      "metadata": {
        "id": "4d14f96d-e410-4788-8993-cb823a11d511"
      },
      "outputs": [],
      "source": [
        "from collections import deque\n",
        "\n",
        "import numpy as np\n",
        "import matplotlib.pyplot as plt\n",
        "import torch\n",
        "import torch.nn as nn\n",
        "import torch.nn.functional as F\n",
        "import gym\n",
        "import glob\n",
        "import io\n",
        "import base64\n",
        "\n",
        "import tqdm\n",
        "from gym.wrappers import Monitor\n",
        "from IPython.display import HTML\n",
        "from IPython import display as ipythondisplay\n",
        "from pyvirtualdisplay import Display\n",
        "\n",
        "display = Display(visible=0, size=(1400, 900))\n",
        "display.start()\n",
        "\n",
        "# play recorded video\n",
        "def show_video():\n",
        "    # start virtual display\n",
        "    \n",
        "    mp4list = glob.glob('video/*.mp4')\n",
        "    if len(mp4list) > 0:\n",
        "        mp4 = sorted(mp4list)[0]\n",
        "        video = io.open(mp4, 'r+b').read()\n",
        "        encoded = base64.b64encode(video)\n",
        "        ipythondisplay.display(HTML(data='''\n",
        "            <video alt=\"test\" autoplay loop controls style=\"height: 400px;\">\n",
        "                <source src=\"data:video/mp4;base64,{0}\" type=\"video/mp4\" />\n",
        "            </video>'''.format(encoded.decode('ascii'))))\n",
        "    else: \n",
        "        print(\"Could not find video\")\n",
        "\n",
        "# 학습 과정 플롯팅을 위한 코드입니다 (단순이동평균)\n",
        "def moving_average(x, w):\n",
        "    return np.convolve(x, np.ones(w), 'valid') / w"
      ]
    },
    {
      "cell_type": "markdown",
      "id": "7821fcad-bfdd-4ea1-881f-b519339d328b",
      "metadata": {
        "tags": [],
        "id": "7821fcad-bfdd-4ea1-881f-b519339d328b"
      },
      "source": [
        "## DQN Components\n",
        "1. Q-Network + Target Network\n",
        "1. Experience Replay\n",
        "1. Train Loop"
      ]
    },
    {
      "cell_type": "markdown",
      "id": "89e6d0e9-6297-4ffc-aa71-a3392fd0b5ac",
      "metadata": {
        "id": "89e6d0e9-6297-4ffc-aa71-a3392fd0b5ac"
      },
      "source": [
        "### Q-Network\n",
        "Q-Function을 (Action-Value Function) 근사하는 Q-Network를 Neural Network로 구현합니다."
      ]
    },
    {
      "cell_type": "code",
      "execution_count": null,
      "id": "b4b7320c-98ec-4c53-9cef-14bb2c8284a4",
      "metadata": {
        "id": "b4b7320c-98ec-4c53-9cef-14bb2c8284a4"
      },
      "outputs": [],
      "source": [
        "class QNetwork(nn.Module):\n",
        "    def __init__(self, inp_dim=4, out_dim=2):\n",
        "        super().__init__()\n",
        "        \n",
        "        # NN architecture을 작성합니다.\n",
        "        self.fc1 = nn.Linear(inp_dim, 64)\n",
        "        self.fc2 = nn.Linear(64, 64) ###\n",
        "        self.head = nn.Linear(64, out_dim)   ###\n",
        "\n",
        "    \n",
        "    def forward(self, x):\n",
        "        # Activation으로 ReLU를 사용합니다.\n",
        "        x = F.relu(self.fc1(x))\n",
        "        \n",
        "        # fc2 layer도 거쳐서\n",
        "        x = F.relu(self.fc2(x)) ###\n",
        "\n",
        "        # 마지막으로 head를 거친 결과를 반환합니다.\n",
        "        return self.head(x) ###"
      ]
    },
    {
      "cell_type": "code",
      "source": [
        "# 테스트 코드입니다.\n",
        "inp_dim, out_dim = 4, 2\n",
        "\n",
        "test_model = QNetwork(inp_dim, out_dim)\n",
        "x = torch.zeros((16, inp_dim))\n",
        "out = test_model(x)\n",
        "print(out)\n",
        "assert out.shape == (16, out_dim)"
      ],
      "metadata": {
        "id": "j3UyYSM5wY8m",
        "colab": {
          "base_uri": "https://localhost:8080/"
        },
        "outputId": "bf44ed85-995d-4764-868a-2f294b0db418"
      },
      "id": "j3UyYSM5wY8m",
      "execution_count": null,
      "outputs": [
        {
          "output_type": "stream",
          "name": "stdout",
          "text": [
            "tensor([[ 0.1573, -0.0911],\n",
            "        [ 0.1573, -0.0911],\n",
            "        [ 0.1573, -0.0911],\n",
            "        [ 0.1573, -0.0911],\n",
            "        [ 0.1573, -0.0911],\n",
            "        [ 0.1573, -0.0911],\n",
            "        [ 0.1573, -0.0911],\n",
            "        [ 0.1573, -0.0911],\n",
            "        [ 0.1573, -0.0911],\n",
            "        [ 0.1573, -0.0911],\n",
            "        [ 0.1573, -0.0911],\n",
            "        [ 0.1573, -0.0911],\n",
            "        [ 0.1573, -0.0911],\n",
            "        [ 0.1573, -0.0911],\n",
            "        [ 0.1573, -0.0911],\n",
            "        [ 0.1573, -0.0911]], grad_fn=<AddmmBackward0>)\n"
          ]
        }
      ]
    },
    {
      "cell_type": "markdown",
      "id": "4a359774-8fd1-4894-a6c3-40cc2d4fb5af",
      "metadata": {
        "id": "4a359774-8fd1-4894-a6c3-40cc2d4fb5af"
      },
      "source": [
        "### Experience Replay\n",
        "DQN은 과거 trajectory를 이용해서 학습을 할 수 있는 off-policy 알고리즘 입니다.\n",
        "\n",
        "State, Action, Reward, Next State, Done을 (에피소드 종료 여부) 저장하고, 랜덤 샘플링 할 수 있는 Experience Replay를 구현합니다."
      ]
    },
    {
      "cell_type": "code",
      "execution_count": null,
      "metadata": {
        "id": "M1UqfDNIkEw3"
      },
      "outputs": [],
      "source": [
        "class ReplayMemory:\n",
        "    def __init__(self, buffer_size:int=50000, n_steps=1, discount_rate=0.99):\n",
        "        # Buffer을 쌓기 위해 deque 자료구조를 사용합니다.\n",
        "        self.buffer = deque(maxlen=buffer_size)\n",
        "    \n",
        "\n",
        "    # Transition을 저장합니다.\n",
        "    def write(self, state, action, reward, next_state, done):\n",
        "        # 학습에 필요한 state, action, reward, next_state, done을 튜플로 저장합니다.\n",
        "        self.buffer.append((state, action, reward, next_state, done)) ###\n",
        "    \n",
        "\n",
        "    # 랜덤 샘플링 후 Minibatch를 반환합니다.\n",
        "    def sample(self, sample_size:int=32):\n",
        "        states, actions, rewards, next_states, dones = list(), list(), list(), list(), list()\n",
        "        \n",
        "        sample_indices = np.random.choice(len(self.buffer), size=sample_size, replace=False)\n",
        "\n",
        "        for index in sample_indices:\n",
        "            sample = self.buffer[index]\n",
        "            states.append(sample[0])\n",
        "            actions.append(sample[1])\n",
        "            rewards.append(sample[2])\n",
        "            next_states.append(sample[3])\n",
        "            dones.append(sample[4])\n",
        "\n",
        "        return states, actions, rewards, next_states, dones\n"
      ],
      "id": "M1UqfDNIkEw3"
    },
    {
      "cell_type": "code",
      "source": [
        "# 테스트 코드입니다.\n",
        "replay_memory = ReplayMemory(buffer_size= 1000) ###\n",
        "\n",
        "for i in range(11):\n",
        "    replay_memory.write(i, 10 * i, 100 * i, 1000 * i, 10000 * i)\n",
        "\n",
        "s, a, r, ns, d = replay_memory.sample(sample_size=5) ###\n",
        "print(s)\n",
        "print(a)\n",
        "print(r)\n",
        "\n",
        "assert set(s) == set([1, 2, 3, 4, 5, 6, 7, 8, 9, 10])"
      ],
      "metadata": {
        "id": "IlhoVjsszE9Z",
        "colab": {
          "base_uri": "https://localhost:8080/",
          "height": 259
        },
        "outputId": "df4a4a5e-5ef5-430b-95dd-888ee5f2612b"
      },
      "id": "IlhoVjsszE9Z",
      "execution_count": null,
      "outputs": [
        {
          "output_type": "stream",
          "name": "stdout",
          "text": [
            "[1, 0, 8, 2, 3]\n",
            "[10, 0, 80, 20, 30]\n",
            "[100, 0, 800, 200, 300]\n"
          ]
        },
        {
          "output_type": "error",
          "ename": "AssertionError",
          "evalue": "ignored",
          "traceback": [
            "\u001b[0;31m---------------------------------------------------------------------------\u001b[0m",
            "\u001b[0;31mAssertionError\u001b[0m                            Traceback (most recent call last)",
            "\u001b[0;32m<ipython-input-25-ace58647b910>\u001b[0m in \u001b[0;36m<module>\u001b[0;34m\u001b[0m\n\u001b[1;32m     10\u001b[0m \u001b[0mprint\u001b[0m\u001b[0;34m(\u001b[0m\u001b[0mr\u001b[0m\u001b[0;34m)\u001b[0m\u001b[0;34m\u001b[0m\u001b[0;34m\u001b[0m\u001b[0m\n\u001b[1;32m     11\u001b[0m \u001b[0;34m\u001b[0m\u001b[0m\n\u001b[0;32m---> 12\u001b[0;31m \u001b[0;32massert\u001b[0m \u001b[0mset\u001b[0m\u001b[0;34m(\u001b[0m\u001b[0ms\u001b[0m\u001b[0;34m)\u001b[0m \u001b[0;34m==\u001b[0m \u001b[0mset\u001b[0m\u001b[0;34m(\u001b[0m\u001b[0;34m[\u001b[0m\u001b[0;36m1\u001b[0m\u001b[0;34m,\u001b[0m \u001b[0;36m2\u001b[0m\u001b[0;34m,\u001b[0m \u001b[0;36m3\u001b[0m\u001b[0;34m,\u001b[0m \u001b[0;36m4\u001b[0m\u001b[0;34m,\u001b[0m \u001b[0;36m5\u001b[0m\u001b[0;34m,\u001b[0m \u001b[0;36m6\u001b[0m\u001b[0;34m,\u001b[0m \u001b[0;36m7\u001b[0m\u001b[0;34m,\u001b[0m \u001b[0;36m8\u001b[0m\u001b[0;34m,\u001b[0m \u001b[0;36m9\u001b[0m\u001b[0;34m,\u001b[0m \u001b[0;36m10\u001b[0m\u001b[0;34m]\u001b[0m\u001b[0;34m)\u001b[0m\u001b[0;34m\u001b[0m\u001b[0;34m\u001b[0m\u001b[0m\n\u001b[0m",
            "\u001b[0;31mAssertionError\u001b[0m: "
          ]
        }
      ]
    },
    {
      "cell_type": "markdown",
      "id": "34ea114a-ec8c-4383-be9b-df30e1dfaeef",
      "metadata": {
        "id": "34ea114a-ec8c-4383-be9b-df30e1dfaeef"
      },
      "source": [
        "### DQN Training"
      ]
    },
    {
      "cell_type": "markdown",
      "source": [
        "#### 하이퍼파라미터 설정"
      ],
      "metadata": {
        "id": "tfEDvs5ulQHQ"
      },
      "id": "tfEDvs5ulQHQ"
    },
    {
      "cell_type": "markdown",
      "source": [
        "많은 강화학습 알고리즘은 하이퍼파라미터에 굉장히 민감합니다.\n",
        "\n",
        "좋은 성능을 내는 하이퍼파라미터를 잘 찾아야 합니다."
      ],
      "metadata": {
        "id": "DmU_IilMzIpj"
      },
      "id": "DmU_IilMzIpj"
    },
    {
      "cell_type": "code",
      "execution_count": null,
      "metadata": {
        "id": "Sj3zPpORkyUN"
      },
      "outputs": [],
      "source": [
        "# 학습과정 중 사용되는 변수/상수들을 선언해줍니다.\n",
        "target_update_freq = 512  # 추천: 128 ~ 4096\n",
        "warmup_steps = 10000 # 추천: batch_size ~ memory_size\n",
        "train_steps = 100000\n",
        "train_freq = 4  # 추천: 1 ~ 4\n",
        "memory_size = 100000   # 추천: 10000 ~ 1000000\n",
        "\n",
        "epsilon = 0.01 # 추천 : 0.001 ~ 0.1\n",
        "\n",
        "discount_rate = 0.99  # 추천: 0.9 ~ 0.9999\n",
        "\n",
        "batch_size = 64 # 추천: 16 ~ 256\n",
        "learning_rate = 0.0001  # 추천: 0.00001 ~ 0.001 \n",
        "\n",
        "\n",
        "n_steps = 1  # 추후에 구현 예정\n",
        "\n",
        "target_score = 195 # Cartpole-v0 환경의 목표 점수입니다. (200 점 만점)"
      ],
      "id": "Sj3zPpORkyUN"
    },
    {
      "cell_type": "markdown",
      "source": [
        "### Replay Buffer, DQN 초기화"
      ],
      "metadata": {
        "id": "JATZpED7lOcQ"
      },
      "id": "JATZpED7lOcQ"
    },
    {
      "cell_type": "code",
      "execution_count": null,
      "id": "c638ed18-5e7b-4d15-9f66-b6db31bf2634",
      "metadata": {
        "id": "c638ed18-5e7b-4d15-9f66-b6db31bf2634",
        "colab": {
          "base_uri": "https://localhost:8080/"
        },
        "outputId": "0991cd5c-0763-40bc-f4c7-13577fcd3ed0"
      },
      "outputs": [
        {
          "output_type": "stream",
          "name": "stderr",
          "text": [
            "/usr/local/lib/python3.7/dist-packages/gym/envs/registration.py:506: UserWarning: \u001b[33mWARN: The environment CartPole-v0 is out of date. You should consider upgrading to version `v1` with the environment ID `CartPole-v1`.\u001b[0m\n",
            "  f\"The environment {path} is out of date. You should consider \"\n"
          ]
        }
      ],
      "source": [
        "# 환경과 Replay Buffer, Q-Network를 Init해줍니다.\n",
        "env = gym.make(\"CartPole-v0\")\n",
        "\n",
        "replay_memory = ReplayMemory(buffer_size=memory_size, n_steps=n_steps, discount_rate=discount_rate)\n",
        "\n",
        "online_net = QNetwork()\n",
        "target_net = QNetwork()\n",
        "target_net.load_state_dict(online_net.state_dict())  # Target Net의 파라미터를 Online Net의 파라미터로 바꿔줍니다.\n",
        "\n",
        "optimizer = torch.optim.Adam(online_net.parameters(), lr=learning_rate) # Adam Optimizer을 사용하여 학습합니다.\n",
        "\n",
        "losses = []\n",
        "episode_reward = 0.0\n",
        "episode_rewards = []\n",
        "episode_steps = []"
      ]
    },
    {
      "cell_type": "markdown",
      "source": [
        "### Experience Replay Warmup\n",
        "랜덤 Action을 이용해 Experience Replay를 일부분 채우고 학습을 진행합니다."
      ],
      "metadata": {
        "id": "sK6ZYdiIlmx1"
      },
      "id": "sK6ZYdiIlmx1"
    },
    {
      "cell_type": "code",
      "source": [
        "print(\"Experience Replay Warmup...\")\n",
        "\n",
        "# 환경을 초기화하고 State를 받습니다.\n",
        "state, done = env.reset(), False\n",
        "\n",
        "for warmup_step in tqdm.trange(warmup_steps):\n",
        "    action = env.action_space.sample()  # 무작위 Action을 선택합니다.\n",
        "    next_state, reward, done, _ = env.step(action)  # Action을 취하고 다음 State, 보상, 에피소드 종료 여부를 받습니다.\n",
        "    \n",
        "    # Replay Memory에 Transition을 저장합니다.\n",
        "    replay_memory.write(state, action , reward / 100, next_state, done)  ###\n",
        "    \n",
        "    if done:  # 에피소드가 끝났다면,\n",
        "        state = env.reset()  # 환경을 초기화합니다.\n",
        "    else:  # 아니라면,\n",
        "        state = next_state  # 현재 State를 업데이트 해줍니다."
      ],
      "metadata": {
        "id": "bAzz6q-5mLTn",
        "colab": {
          "base_uri": "https://localhost:8080/"
        },
        "outputId": "bc469dd0-3743-4157-9dfc-d226149e0fd3"
      },
      "id": "bAzz6q-5mLTn",
      "execution_count": null,
      "outputs": [
        {
          "output_type": "stream",
          "name": "stdout",
          "text": [
            "Experience Replay Warmup...\n"
          ]
        },
        {
          "output_type": "stream",
          "name": "stderr",
          "text": [
            "100%|██████████| 10000/10000 [00:00<00:00, 45956.51it/s]\n"
          ]
        }
      ]
    },
    {
      "cell_type": "markdown",
      "source": [
        "### DQN 학습"
      ],
      "metadata": {
        "id": "h1oAJqIymX38"
      },
      "id": "h1oAJqIymX38"
    },
    {
      "cell_type": "code",
      "execution_count": null,
      "metadata": {
        "id": "zeRzAV_TmdQ6",
        "colab": {
          "base_uri": "https://localhost:8080/"
        },
        "outputId": "2f985326-9943-41d9-f224-764fa1a30981"
      },
      "outputs": [
        {
          "output_type": "stream",
          "name": "stdout",
          "text": [
            "DQN Training Starts...\n"
          ]
        },
        {
          "output_type": "stream",
          "name": "stderr",
          "text": [
            "loss: 0.0007, epi. rew.: 195.2, max_rew.: 200.0:   0%|          | 99/100000 [00:00<00:54, 1844.47it/s]\n"
          ]
        }
      ],
      "source": [
        "from torch._C import NoneType\n",
        "print(\"DQN Training Starts...\")\n",
        "progress_bar = tqdm.trange(train_steps)\n",
        "\n",
        "# 환경 초기화, 현재 State를 받아옵니다.\n",
        "state, done = env.reset(), False\n",
        "\n",
        "for step in progress_bar:\n",
        "    with torch.no_grad(): #환경 할때는 grad는 필요 없음 \n",
        "        # epsilon-greedy를 이용해 action을 선택하세요. \n",
        "        if np.random.random() < epsilon: ###\n",
        "            # 랜덤 action\n",
        "            action = env.action_space.sample()\n",
        "        else:\n",
        "            tensor_state = torch.FloatTensor(state)\n",
        "            # Online Q(s, a)가 가장 높은 action을 선택하세요 (tensor.argmax() 함수 사용)\n",
        "            action = online_net(tensor_state).argmax() ###\n",
        "\n",
        "            action = action.item()\n",
        "\n",
        "\n",
        "    # 선택된 Action을 이용해 환경과 상호작용합니다.\n",
        "    next_state, reward, done, _ = env.step(action)\n",
        "  \n",
        "    # Replay Memory에 Transition을 넣어줍니다.\n",
        "    replay_memory.write(state, action, reward/100, next_state, done ) ###\n",
        "\n",
        "    # Episode Reward를 기록합니다. (학습 진행상황 확인용)\n",
        "    episode_reward += reward\n",
        "    \n",
        "    if done:\n",
        "        state = env.reset()\n",
        "        episode_rewards.append(episode_reward)\n",
        "        episode_steps.append(step)\n",
        "        episode_reward = 0.0\n",
        "    else:\n",
        "        state = next_state\n",
        "    \n",
        "    # Train Step\n",
        "    if step % train_freq == 0:\n",
        "        online_net.train()\n",
        "        # Replay Memory에서 batch_size의 minibatch를 샘플링해옵니다.\n",
        "        states, actions, rewards, next_states, dones = replay_memory.sample(batch_size) ###\n",
        "\n",
        "        states = torch.FloatTensor(np.array(states))  # shape: (Batch, 4)\n",
        "        actions = torch.LongTensor(np.array(actions))  # shape: (Batch,)\n",
        "        rewards = torch.FloatTensor(np.array(rewards))  # shape: (Batch,)\n",
        "        next_states = torch.FloatTensor(np.array(next_states))  # shape: (Batch, 4)\n",
        "        dones = torch.FloatTensor(np.array(dones))  # shape: (Batch,)\n",
        "        \n",
        "\n",
        "\n",
        "        # TD Target을 계산합니다.\n",
        "        with torch.no_grad():\n",
        "            # 논문: y = r + γ * max_a' Q_hat(φ, a'; θ-)\n",
        "            # 해석: target_q = reward + discount * max(Target_Q( next_state )) * (1-done)\n",
        "            \n",
        "            # tensor.max(axis=-1)[0]을 사용해서 max(Target_Q( next_state ))을 구합니다.\n",
        "            next_q_values = target_net(next_states).max(axis=-1)[0] ###\n",
        "\n",
        "            # 최종 target_q를 계산합니다.\n",
        "            target_q_values = rewards + discount_rate * next_q_values * (1-dones) ###\n",
        "\n",
        "        # Online Net의 Q값을 계산합니다. Q(s, a)이기 때문에,\n",
        "        # torch.gather를 이용해 action으로 indexing해 해당 action의 Q값을.가져와야 합니다.\n",
        "        current_q_values = online_net(states).gather(-1, actions.unsqueeze(-1)).squeeze() ###\n",
        "\n",
        "\n",
        "        # Online Net의 Q값과 TD Target 간의 Loss를 계산합니다.\n",
        "        loss = F.smooth_l1_loss(current_q_values, target_q_values) # 가까운 것은 제곱으로 먼것은 차로 \n",
        "        \n",
        "        # gradient \n",
        "        optimizer.zero_grad() \n",
        "        loss.backward()\n",
        "        optimizer.step()\n",
        "        \n",
        "        losses.append(loss.item())\n",
        "\n",
        "    # 일정 Step 마다 Target Network의 파라미터를 Online Network의 그것으로 갱신해줍니다.\n",
        "    if step % target_update_freq == target_update_freq - 1:\n",
        "        target_net.load_state_dict(online_net.state_dict())\n",
        "        \n",
        "    # 학습 과정 출력\n",
        "    if step % 100 == 99:\n",
        "        avg_rew = np.mean(episode_rewards[-100:])\n",
        "        progress_bar.set_description(f\"loss: {np.mean(losses[-100:]):6.4f}, epi. rew.: {avg_rew:5.1f}, max_rew.: {np.max(episode_rewards):5.1f}\")\n",
        "\n",
        "        # 목표 점수를 넘기면 학습을 중단합니다.\n",
        "        if avg_rew > target_score:\n",
        "            break"
      ],
      "id": "zeRzAV_TmdQ6"
    },
    {
      "cell_type": "markdown",
      "source": [
        "### 결과 확인"
      ],
      "metadata": {
        "id": "YXjYpveMp-Ea"
      },
      "id": "YXjYpveMp-Ea"
    },
    {
      "cell_type": "code",
      "execution_count": null,
      "id": "4afcde1b-7692-45ce-9ca1-5a48d7f6ac30",
      "metadata": {
        "id": "4afcde1b-7692-45ce-9ca1-5a48d7f6ac30",
        "colab": {
          "base_uri": "https://localhost:8080/",
          "height": 591
        },
        "outputId": "20e1139f-a4a5-45ee-ad14-ad97c67bc168"
      },
      "outputs": [
        {
          "output_type": "display_data",
          "data": {
            "text/plain": [
              "<Figure size 432x288 with 1 Axes>"
            ],
            "image/png": "[encoded data removed]"
          },
          "metadata": {
            "needs_background": "light"
          }
        },
        {
          "output_type": "stream",
          "name": "stdout",
          "text": [
            "\n"
          ]
        },
        {
          "output_type": "display_data",
          "data": {
            "text/plain": [
              "<Figure size 432x288 with 1 Axes>"
            ],
            "image/png": "[encoded data removed]"
          },
          "metadata": {
            "needs_background": "light"
          }
        }
      ],
      "source": [
        "plt.plot(moving_average(losses, 100))\n",
        "plt.title(\"Q-value L1 Loss\")\n",
        "plt.xlabel(\"updates\")\n",
        "plt.ylabel(\"loss\")\n",
        "plt.show()\n",
        "\n",
        "print()\n",
        "\n",
        "plt.plot(moving_average(episode_steps, 100), moving_average(episode_rewards, 100))\n",
        "\n",
        "plt.title(\"Episodic Rewards\")\n",
        "plt.xlabel(\"steps\")\n",
        "plt.ylabel(\"epi. reward\")\n",
        "plt.show()"
      ]
    },
    {
      "cell_type": "markdown",
      "source": [
        "Visualization"
      ],
      "metadata": {
        "id": "7To8zjEdFLyi"
      },
      "id": "7To8zjEdFLyi"
    },
    {
      "cell_type": "code",
      "source": [
        "env = gym.make('CartPole-v0')\n",
        "env = Monitor(env, './video', force=True)\n",
        "rewards = 0.0\n",
        "\n",
        "ob, done = env.reset(), False\n",
        "while not done:\n",
        "    action = online_net(torch.FloatTensor(ob)).argmax().item()\n",
        "    ob, reward, done, info = env.step(action)\n",
        "    rewards += reward\n",
        "env.close()\n",
        "\n",
        "print(f\"\\nEpisode Finished! Reward: {rewards:.1f}.  Please wait until GIF Video is created...\")\n",
        "show_video()"
      ],
      "metadata": {
        "id": "8b2G16k0FKi0",
        "colab": {
          "base_uri": "https://localhost:8080/",
          "height": 513
        },
        "outputId": "7d3b5095-4ea3-48f2-d3bf-52281f71839b"
      },
      "id": "8b2G16k0FKi0",
      "execution_count": null,
      "outputs": [
        {
          "output_type": "stream",
          "name": "stderr",
          "text": [
            "/usr/local/lib/python3.7/dist-packages/gym/envs/registration.py:506: UserWarning: \u001b[33mWARN: The environment CartPole-v0 is out of date. You should consider upgrading to version `v1` with the environment ID `CartPole-v1`.\u001b[0m\n",
            "  f\"The environment {path} is out of date. You should consider \"\n"
          ]
        },
        {
          "output_type": "stream",
          "name": "stdout",
          "text": [
            "\n",
            "Episode Finished! Reward: 200.0.  Please wait until GIF Video is created...\n"
          ]
        },
        {
          "output_type": "display_data",
          "data": {
            "text/plain": [
              "<IPython.core.display.HTML object>"
            ],
            "text/html": [
              "\n",
              "            <video alt=\"test\" autoplay loop controls style=\"height: 400px;\">\n",
              "                <source src=\"data:video/mp4;base64,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\" type=\"video/mp4\" />\n",
              "            </video>"
            ]
          },
          "metadata": {}
        }
      ]
    },
    {
      "cell_type": "markdown",
      "source": [
        "### N-Step Experience Replay\n"
      ],
      "metadata": {
        "id": "YjAa0jNykbhg"
      },
      "id": "YjAa0jNykbhg"
    },
    {
      "cell_type": "markdown",
      "source": [
        "![nstep.png](data:image/png;base64,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)"
      ],
      "metadata": {
        "id": "7P4Me6aO0I32"
      },
      "id": "7P4Me6aO0I32"
    },
    {
      "cell_type": "code",
      "execution_count": null,
      "id": "3d2ba330-ceb7-48c5-ac3e-f20b5d7f5ad7",
      "metadata": {
        "id": "3d2ba330-ceb7-48c5-ac3e-f20b5d7f5ad7"
      },
      "outputs": [],
      "source": [
        "class ReplayMemory:\n",
        "    def __init__(self, buffer_size=50000, n_steps=4, discount_rate=0.99):\n",
        "        self.buffer = deque(maxlen=buffer_size)\n",
        "        self.n_steps = n_steps\n",
        "        self.n_step_buffer = deque(maxlen=n_steps)\n",
        "        self.discount_rate = discount_rate\n",
        "    \n",
        "    \n",
        "    def write(self, state, action, reward, next_state, done):\n",
        "        self.n_step_buffer.append((state, action, reward, next_state, done))\n",
        "\n",
        "        if len(self.n_step_buffer) == self.n_steps:\n",
        "            # 첫번째 step\n",
        "            start_step = self.n_step_buffer[0]\n",
        "            # 마지막 step\n",
        "            last_step = self.n_step_buffer[-1]\n",
        "\n",
        "            reward = 0\n",
        "            done = False\n",
        "            # N step 동안의 reward를 더합니다.\n",
        "            # Discount rate을 반영하여 계산합니다.\n",
        "            for data in reversed(self.n_step_buffer):\n",
        "                # r = gamma*r'*(1-done) + reward\n",
        "                reward = self.discount_rate * reward * (1-done) + data[2] ###\n",
        "\n",
        "                if data[4]:\n",
        "                    # 중간에 환경이 끝났으면 끝난 정보를 저장합니다.\n",
        "                    done = True\n",
        "            # Buffer에 (첫번째 step의 state, 첫번째 step의 action, reward 합, 마지막 step의 next_state, n step 도중 끝났는지) tuple을 저장합니다.\n",
        "            self.buffer.append((start_step[0], start_step[1], reward, last_step[3], done)) ###\n",
        "\n",
        "\n",
        "    # Sample 함수는 동일\n",
        "    def sample(self, sample_size=32):\n",
        "        sample_indices = np.random.choice(len(self.buffer), size=sample_size, replace=False)\n",
        "        \n",
        "        states, actions, rewards, next_states, dones = (list() for _ in range(5))\n",
        "        \n",
        "        for index in sample_indices:\n",
        "            sample = self.buffer[index]\n",
        "            states.append(sample[0])\n",
        "            actions.append(sample[1])\n",
        "            rewards.append(sample[2])\n",
        "            next_states.append(sample[3])\n",
        "            dones.append(sample[4])\n",
        "            \n",
        "        return states, actions, rewards, next_states, dones"
      ]
    },
    {
      "cell_type": "code",
      "source": [
        "# N step과 Double DQN 적용\n",
        "n_steps = 8 # 추천: 2 ~ 16\n",
        "\n",
        "\n",
        "# 환경, 변수 초기화\n",
        "env = gym.make(\"CartPole-v0\")\n",
        "\n",
        "replay_memory = ReplayMemory(buffer_size=memory_size, n_steps=n_steps, discount_rate=discount_rate)\n",
        "\n",
        "online_net = QNetwork()\n",
        "target_net = QNetwork()\n",
        "target_net.load_state_dict(online_net.state_dict())  # Target Net의 파라미터를 Online Net의 파라미터로 바꿔줍니다.\n",
        "\n",
        "optimizer = torch.optim.Adam(online_net.parameters(), lr=learning_rate)\n",
        "\n",
        "ndqn_losses = []\n",
        "episode_reward = 0.0\n",
        "ndqn_episode_rewards = []\n",
        "ndqn_episode_steps = []\n",
        "\n",
        "\n",
        "print(\"Experience Replay Warmup...\")\n",
        "\n",
        "# 환경을 초기화하고 State를 받습니다.\n",
        "state, done = env.reset(), False\n",
        "\n",
        "for warmup_step in tqdm.trange(warmup_steps):\n",
        "    action = env.action_space.sample()  # 무작위 Action을 선택합니다.\n",
        "    next_state, reward, done, _ = env.step(action)  # Action을 취하고 다음 State, 보상, 에피소드 종료 여부를 받습니다.\n",
        "    \n",
        "    replay_memory.write(state, action, reward/100, next_state, done)  # Replay Memory에 Transition을 써줍니다.\n",
        "    \n",
        "    if done:  # 에피소드가 끝났다면,\n",
        "        state = env.reset()  # 환경을 초기화합니다.\n",
        "    else:  # 아니라면,\n",
        "        state = next_state  # 현재 State를 업데이트 해줍니다."
      ],
      "metadata": {
        "id": "WKI7xVbS7Bl_",
        "colab": {
          "base_uri": "https://localhost:8080/"
        },
        "outputId": "48251822-552b-4511-fe3c-a81c20bd587f"
      },
      "id": "WKI7xVbS7Bl_",
      "execution_count": null,
      "outputs": [
        {
          "output_type": "stream",
          "name": "stdout",
          "text": [
            "Experience Replay Warmup...\n"
          ]
        },
        {
          "output_type": "stream",
          "name": "stderr",
          "text": [
            "100%|██████████| 10000/10000 [00:00<00:00, 43763.01it/s]\n"
          ]
        }
      ]
    },
    {
      "cell_type": "code",
      "execution_count": null,
      "metadata": {
        "id": "9GvX5abGC_4Y",
        "colab": {
          "base_uri": "https://localhost:8080/"
        },
        "outputId": "95090681-757c-41b4-c649-7b78366b8562"
      },
      "outputs": [
        {
          "output_type": "stream",
          "name": "stdout",
          "text": [
            "DQN Training Starts...\n"
          ]
        },
        {
          "output_type": "stream",
          "name": "stderr",
          "text": [
            "loss: 0.0150, epi. rew.: 195.8, max_rew.: 200.0:  20%|██        | 20399/100000 [00:11<00:43, 1838.46it/s]\n"
          ]
        }
      ],
      "source": [
        "from torch._C import NoneType\n",
        "print(\"DQN Training Starts...\")\n",
        "progress_bar = tqdm.trange(train_steps)\n",
        "\n",
        "# 환경 초기화, 현재 State를 받아옵니다.\n",
        "state, done = env.reset(), False\n",
        "\n",
        "for step in progress_bar:\n",
        "    online_net.eval()\n",
        "\n",
        "    # Epsilon-Greedy\n",
        "    if np.random.random() < epsilon:   \n",
        "        action = env.action_space.sample()  # 랜덤 action\n",
        "    else:\n",
        "        action = online_net(torch.FloatTensor(state)).argmax().item()\n",
        "\n",
        "\n",
        "    # 선택된 Action을 이용해 환경과 상호작용합니다.\n",
        "    next_state, reward, done, _ = env.step(action)\n",
        "    \n",
        "    # Replay Memory에 Transition을 넣어줍니다.\n",
        "    replay_memory.write(state, action, reward/100, next_state, done)\n",
        "\n",
        "    # Episode Reward를 기록합니다. (학습 진행상황 확인용)\n",
        "    episode_reward += reward\n",
        "    \n",
        "    if done:\n",
        "        state = env.reset()\n",
        "        ndqn_episode_rewards.append(episode_reward)\n",
        "        ndqn_episode_steps.append(step)\n",
        "        episode_reward = 0.0\n",
        "    else:\n",
        "        state = next_state\n",
        "    \n",
        "    # Train Step\n",
        "    if step % train_freq == 0:\n",
        "        online_net.train()\n",
        "        # Replay Memory에서 minibatch를 샘플링해옵니다.\n",
        "        states, actions, rewards, next_states, dones = replay_memory.sample(batch_size)\n",
        "\n",
        "        states = torch.FloatTensor(np.array(states))  # shape: (Batch, 4)\n",
        "        actions = torch.LongTensor(np.array(actions))  # shape: (Batch,)\n",
        "        rewards = torch.FloatTensor(np.array(rewards))  # shape: (Batch,)\n",
        "        next_states = torch.FloatTensor(np.array(next_states))  # shape: (Batch, 4)\n",
        "        dones = torch.FloatTensor(np.array(dones))  # shape: (Batch,)\n",
        "        \n",
        "\n",
        "        # TD Target을 계산합니다.\n",
        "        with torch.no_grad():\n",
        "            next_q_values = target_net(next_states).max(axis=-1)[0]\n",
        "            target_q_values = rewards + discount_rate * next_q_values * (1.0 - dones)\n",
        "\n",
        "        # Online Net의 Q값을 계산합니다. Q(s, a)이기 때문에,\n",
        "        # torch.gather를 이용해 action으로 indexing해 해당 action의 Q값을.가져와야 합니다.\n",
        "        current_q_values = online_net(states).gather(1, actions.unsqueeze(-1)).squeeze()\n",
        "        \n",
        "\n",
        "        # Online Net의 Q값과 TD Target 간의 Loss를 계산합니다.\n",
        "        loss = F.smooth_l1_loss(current_q_values, target_q_values)\n",
        "        optimizer.zero_grad()\n",
        "        loss.backward()\n",
        "        optimizer.step()\n",
        "        \n",
        "        ndqn_losses.append(loss.item())\n",
        "\n",
        "    # 일정 Step 마다 Target Network의 파라미터를 Online Network의 그것으로 갱신해줍니다.\n",
        "    if step % target_update_freq == target_update_freq - 1:\n",
        "        target_net.load_state_dict(online_net.state_dict())\n",
        "        \n",
        "    # 학습 과정 출력\n",
        "    if step % 100 == 99:\n",
        "        avg_rew = np.mean(ndqn_episode_rewards[-100:])\n",
        "        progress_bar.set_description(f\"loss: {np.mean(ndqn_losses[-100:]):6.4f}, epi. rew.: {avg_rew:5.1f}, max_rew.: {np.max(ndqn_episode_rewards):5.1f}\")\n",
        "\n",
        "        if avg_rew > target_score:\n",
        "            break"
      ],
      "id": "9GvX5abGC_4Y"
    },
    {
      "cell_type": "markdown",
      "source": [
        "### DQN v.s. Multi-Step DQN 결과 비교\n"
      ],
      "metadata": {
        "id": "TLUgUchgDpDT"
      },
      "id": "TLUgUchgDpDT"
    },
    {
      "cell_type": "code",
      "execution_count": null,
      "metadata": {
        "colab": {
          "base_uri": "https://localhost:8080/",
          "height": 591
        },
        "outputId": "a9c7b57b-3724-44b9-ac7d-5786c12f88fe",
        "id": "_A2k59P6DgUj"
      },
      "outputs": [
        {
          "output_type": "display_data",
          "data": {
            "text/plain": [
              "<Figure size 432x288 with 1 Axes>"
            ],
            "image/png": "[encoded data removed]"
          },
          "metadata": {
            "needs_background": "light"
          }
        },
        {
          "output_type": "stream",
          "name": "stdout",
          "text": [
            "\n"
          ]
        },
        {
          "output_type": "display_data",
          "data": {
            "text/plain": [
              "<Figure size 432x288 with 1 Axes>"
            ],
            "image/png": "[encoded data removed]"
          },
          "metadata": {
            "needs_background": "light"
          }
        }
      ],
      "source": [
        "plt.plot(moving_average(losses, 100), label='DQN')\n",
        "plt.plot(moving_average(ndqn_losses, 100), label='N-step DQN')\n",
        "plt.title(\"Q-value L1 Loss\")\n",
        "plt.xlabel(\"updates\")\n",
        "plt.ylabel(\"loss\")\n",
        "plt.legend(fontsize=12)\n",
        "plt.show()\n",
        "\n",
        "print()\n",
        "\n",
        "plt.plot(moving_average(episode_steps, 10), moving_average(episode_rewards, 10), label='DQN')\n",
        "plt.plot(moving_average(ndqn_episode_steps, 10), moving_average(ndqn_episode_rewards, 10), label='N-step DQN')\n",
        "\n",
        "plt.title(\"Episodic Rewards\")\n",
        "plt.xlabel(\"steps\")\n",
        "plt.ylabel(\"epi. reward\")\n",
        "plt.legend(fontsize=12)\n",
        "plt.show()"
      ],
      "id": "_A2k59P6DgUj"
    },
    {
      "cell_type": "code",
      "execution_count": null,
      "id": "1d190af7-eb4e-4531-b36d-e52a93a32d2f",
      "metadata": {
        "id": "1d190af7-eb4e-4531-b36d-e52a93a32d2f",
        "colab": {
          "base_uri": "https://localhost:8080/",
          "height": 457
        },
        "outputId": "ed035518-cf98-4009-abe5-14bae8be88f3"
      },
      "outputs": [
        {
          "output_type": "stream",
          "name": "stdout",
          "text": [
            "\n",
            "Episode Finished! Reward: 200.0\n"
          ]
        },
        {
          "output_type": "display_data",
          "data": {
            "text/plain": [
              "<IPython.core.display.HTML object>"
            ],
            "text/html": [
              "\n",
              "            <video alt=\"test\" autoplay loop controls style=\"height: 400px;\">\n",
              "                <source src=\"data:video/mp4;base64,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\" type=\"video/mp4\" />\n",
              "            </video>"
            ]
          },
          "metadata": {}
        }
      ],
      "source": [
        "env = gym.make('CartPole-v0')\n",
        "env = Monitor(env, './video', force=True)\n",
        "\n",
        "rewards = 0.0\n",
        "\n",
        "ob, done = env.reset(), False\n",
        "while not done:\n",
        "    action = online_net(torch.FloatTensor(ob)).argmax().item()\n",
        "    ob, reward, done, info = env.step(action)\n",
        "    rewards += reward\n",
        "env.close()\n",
        "\n",
        "print(f\"\\nEpisode Finished! Reward: {rewards:.1f}\")\n",
        "show_video()"
      ]
    },
    {
      "cell_type": "markdown",
      "source": [
        "# Stable Baseline 3\n",
        "\n",
        "Stable Baseline 3는 다양한 강화학습 알고리즘을 쉽게 돌려볼 수 있도록 제공하는 library입니다.\n",
        "\n",
        "Day 2에 SB3로 다양한 알고리즘을 활용하기 앞서 DQN을 돌려보도록 하겠습니다."
      ],
      "metadata": {
        "id": "nIPBLQej-AmO"
      },
      "id": "nIPBLQej-AmO"
    },
    {
      "cell_type": "code",
      "source": [
        "!pip install stable-baselines3"
      ],
      "metadata": {
        "id": "csOIuXUk-zJA",
        "colab": {
          "base_uri": "https://localhost:8080/"
        },
        "outputId": "09d0b13f-ba64-47ff-f47b-7721715cae69"
      },
      "id": "csOIuXUk-zJA",
      "execution_count": null,
      "outputs": [
        {
          "output_type": "stream",
          "name": "stdout",
          "text": [
            "Looking in indexes: https://pypi.org/simple, https://us-python.pkg.dev/colab-wheels/public/simple/\n",
            "Requirement already satisfied: stable-baselines3 in /usr/local/lib/python3.7/dist-packages (1.6.2)\n",
            "Requirement already satisfied: cloudpickle in /usr/local/lib/python3.7/dist-packages (from stable-baselines3) (1.5.0)\n",
            "Requirement already satisfied: importlib-metadata~=4.13 in /usr/local/lib/python3.7/dist-packages (from stable-baselines3) (4.13.0)\n",
            "Requirement already satisfied: matplotlib in /usr/local/lib/python3.7/dist-packages (from stable-baselines3) (3.2.2)\n",
            "Requirement already satisfied: pandas in /usr/local/lib/python3.7/dist-packages (from stable-baselines3) (1.3.5)\n",
            "Requirement already satisfied: torch>=1.11 in /usr/local/lib/python3.7/dist-packages (from stable-baselines3) (1.12.1+cu113)\n",
            "Requirement already satisfied: gym==0.21 in /usr/local/lib/python3.7/dist-packages (from stable-baselines3) (0.21.0)\n",
            "Requirement already satisfied: numpy in /usr/local/lib/python3.7/dist-packages (from stable-baselines3) (1.21.6)\n",
            "Requirement already satisfied: zipp>=0.5 in /usr/local/lib/python3.7/dist-packages (from importlib-metadata~=4.13->stable-baselines3) (3.9.0)\n",
            "Requirement already satisfied: typing-extensions>=3.6.4 in /usr/local/lib/python3.7/dist-packages (from importlib-metadata~=4.13->stable-baselines3) (4.1.1)\n",
            "Requirement already satisfied: kiwisolver>=1.0.1 in /usr/local/lib/python3.7/dist-packages (from matplotlib->stable-baselines3) (1.4.4)\n",
            "Requirement already satisfied: cycler>=0.10 in /usr/local/lib/python3.7/dist-packages (from matplotlib->stable-baselines3) (0.11.0)\n",
            "Requirement already satisfied: python-dateutil>=2.1 in /usr/local/lib/python3.7/dist-packages (from matplotlib->stable-baselines3) (2.8.2)\n",
            "Requirement already satisfied: pyparsing!=2.0.4,!=2.1.2,!=2.1.6,>=2.0.1 in /usr/local/lib/python3.7/dist-packages (from matplotlib->stable-baselines3) (3.0.9)\n",
            "Requirement already satisfied: six>=1.5 in /usr/local/lib/python3.7/dist-packages (from python-dateutil>=2.1->matplotlib->stable-baselines3) (1.15.0)\n",
            "Requirement already satisfied: pytz>=2017.3 in /usr/local/lib/python3.7/dist-packages (from pandas->stable-baselines3) (2022.4)\n"
          ]
        }
      ]
    },
    {
      "cell_type": "markdown",
      "source": [
        "LunarLander-v2는 우주선을 목적지에 안전하게 착륙시켜야 하는 환경입니다.\n",
        "\n",
        "우주선의 위치, 속도가 입력으로 주어지고, 액션인 좌, 우, 아래 엔진을 잘 출력하여 우주선을 가운데 착륙지점에 잘 착륙시켜야 합니다.\n",
        "\n",
        "![화면 캡처 2022-10-12 142650.png](data:image/png;base64,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)\n"
      ],
      "metadata": {
        "id": "J9mpBLitpcLY"
      },
      "id": "J9mpBLitpcLY"
    },
    {
      "cell_type": "code",
      "source": [
        "from stable_baselines3 import DQN\n",
        "from stable_baselines3.common.logger import configure\n",
        "from stable_baselines3.common.callbacks import BaseCallback, EvalCallback, StopTrainingOnRewardThreshold\n",
        "\n",
        "# OpenAI Gym Style을 따르는 환경들은 모두 사용 가능합니다.\n",
        "env = gym.make('LunarLander-v2')\n",
        "\n",
        "\n",
        "# 평가용 환경 (training 환경하고 분리)\n",
        "eval_env = gym.make(\"LunarLander-v2\")\n",
        "eval_env = Monitor(eval_env, './video', force=True)\n",
        "\n",
        "# 모델이 특정 점수를 넘기면 학습을 종료시키는 Callback function : 어떤 조건에 도달시 그때 어떤 event가 발생\n",
        "callback_on_best = StopTrainingOnRewardThreshold(reward_threshold=200, verbose=1)\n",
        "\n",
        "# evaluation 후 evaluation 영상을 보여주는 callback\n",
        "class VideoCallback(BaseCallback):\n",
        "    def __init__(self, verbose=0):\n",
        "        super().__init__(verbose)\n",
        "    \n",
        "    def _on_step(self):\n",
        "        show_video()\n",
        "        return True\n",
        "\n",
        "# 매 10000 step마다 모델을 평가하는 callback\n",
        "eval_callback = EvalCallback(\n",
        "    eval_env, \n",
        "    n_eval_episodes=5,\n",
        "    eval_freq=20000, \n",
        "    deterministic=True,\n",
        "    callback_on_new_best=callback_on_best,\n",
        "    callback_after_eval=VideoCallback(),\n",
        "    verbose=1\n",
        "    )\n",
        "\n",
        "# 모델 생성 및 설정\n",
        "model = DQN(\n",
        "    env=env,\n",
        "    policy='MlpPolicy',\n",
        "    learning_rate=0.00063,\n",
        "    batch_size=128,\n",
        "    buffer_size=50000,\n",
        "    learning_starts=0,\n",
        "    gamma=0.99,\n",
        "    target_update_interval=250,\n",
        "    train_freq=4,\n",
        "    gradient_steps=-1,\n",
        "    exploration_fraction=0.12,\n",
        "    exploration_final_eps=0.1,\n",
        "    policy_kwargs=dict(net_arch=[256, 256]),\n",
        "    verbose=0,\n",
        "    seed=10,\n",
        ")\n",
        "\n",
        "# 학습 로그 저장 설정\n",
        "log_path = './log/dqn_lunarlander'\n",
        "new_logger = configure(log_path, ['stdout', 'csv'])\n",
        "model.set_logger(new_logger)\n",
        "\n",
        "# 모델 학습과 저장\n",
        "model.learn(total_timesteps=100000, callback=eval_callback)\n",
        "model.save(\"dqn_lunarlander\")\n"
      ],
      "metadata": {
        "id": "bes-nvbU-_b5",
        "colab": {
          "base_uri": "https://localhost:8080/"
        },
        "outputId": "9a43b4b0-6756-4f60-b3d8-0789ba1790c4"
      },
      "id": "bes-nvbU-_b5",
      "execution_count": null,
      "outputs": [
        {
          "output_type": "stream",
          "name": "stdout",
          "text": [
            "Logging to ./log/dqn_lunarlander\n",
            "----------------------------------\n",
            "| rollout/            |          |\n",
            "|    ep_len_mean      | 86.8     |\n",
            "|    ep_rew_mean      | -147     |\n",
            "|    exploration_rate | 0.974    |\n",
            "| time/               |          |\n",
            "|    episodes         | 4        |\n",
            "|    fps              | 211      |\n",
            "|    time_elapsed     | 1        |\n",
            "|    total_timesteps  | 347      |\n",
            "| train/              |          |\n",
            "|    learning_rate    | 0.00063  |\n",
            "|    loss             | 1.45     |\n",
            "|    n_updates        | 344      |\n",
            "----------------------------------\n",
            "----------------------------------\n",
            "| rollout/            |          |\n",
            "|    ep_len_mean      | 87.4     |\n",
            "|    ep_rew_mean      | -187     |\n",
            "|    exploration_rate | 0.948    |\n",
            "| time/               |          |\n",
            "|    episodes         | 8        |\n",
            "|    fps              | 215      |\n",
            "|    time_elapsed     | 3        |\n",
            "|    total_timesteps  | 699      |\n",
            "| train/              |          |\n",
            "|    learning_rate    | 0.00063  |\n",
            "|    loss             | 1.51     |\n",
            "|    n_updates        | 696      |\n",
            "----------------------------------\n",
            "----------------------------------\n",
            "| rollout/            |          |\n",
            "|    ep_len_mean      | 90.3     |\n",
            "|    ep_rew_mean      | -171     |\n",
            "|    exploration_rate | 0.919    |\n",
            "| time/               |          |\n",
            "|    episodes         | 12       |\n",
            "|    fps              | 217      |\n",
            "|    time_elapsed     | 4        |\n",
            "|    total_timesteps  | 1084     |\n",
            "| train/              |          |\n",
            "|    learning_rate    | 0.00063  |\n",
            "|    loss             | 1.68     |\n",
            "|    n_updates        | 1080     |\n",
            "----------------------------------\n",
            "----------------------------------\n",
            "| rollout/            |          |\n",
            "|    ep_len_mean      | 95.9     |\n",
            "|    ep_rew_mean      | -167     |\n",
            "|    exploration_rate | 0.885    |\n",
            "| time/               |          |\n",
            "|    episodes         | 16       |\n",
            "|    fps              | 218      |\n",
            "|    time_elapsed     | 7        |\n",
            "|    total_timesteps  | 1534     |\n",
            "| train/              |          |\n",
            "|    learning_rate    | 0.00063  |\n",
            "|    loss             | 1.37     |\n",
            "|    n_updates        | 1532     |\n",
            "----------------------------------\n",
            "----------------------------------\n",
            "| rollout/            |          |\n",
            "|    ep_len_mean      | 102      |\n",
            "|    ep_rew_mean      | -154     |\n",
            "|    exploration_rate | 0.846    |\n",
            "| time/               |          |\n",
            "|    episodes         | 20       |\n",
            "|    fps              | 218      |\n",
            "|    time_elapsed     | 9        |\n",
            "|    total_timesteps  | 2049     |\n",
            "| train/              |          |\n",
            "|    learning_rate    | 0.00063  |\n",
            "|    loss             | 2.39     |\n",
            "|    n_updates        | 2048     |\n",
            "----------------------------------\n",
            "----------------------------------\n",
            "| rollout/            |          |\n",
            "|    ep_len_mean      | 104      |\n",
            "|    ep_rew_mean      | -138     |\n",
            "|    exploration_rate | 0.813    |\n",
            "| time/               |          |\n",
            "|    episodes         | 24       |\n",
            "|    fps              | 217      |\n",
            "|    time_elapsed     | 11       |\n",
            "|    total_timesteps  | 2489     |\n",
            "| train/              |          |\n",
            "|    learning_rate    | 0.00063  |\n",
            "|    loss             | 1.45     |\n",
            "|    n_updates        | 2488     |\n",
            "----------------------------------\n",
            "----------------------------------\n",
            "| rollout/            |          |\n",
            "|    ep_len_mean      | 102      |\n",
            "|    ep_rew_mean      | -138     |\n",
            "|    exploration_rate | 0.785    |\n",
            "| time/               |          |\n",
            "|    episodes         | 28       |\n",
            "|    fps              | 217      |\n",
            "|    time_elapsed     | 13       |\n",
            "|    total_timesteps  | 2863     |\n",
            "| train/              |          |\n",
            "|    learning_rate    | 0.00063  |\n",
            "|    loss             | 1.01     |\n",
            "|    n_updates        | 2860     |\n",
            "----------------------------------\n",
            "----------------------------------\n",
            "| rollout/            |          |\n",
            "|    ep_len_mean      | 102      |\n",
            "|    ep_rew_mean      | -129     |\n",
            "|    exploration_rate | 0.756    |\n",
            "| time/               |          |\n",
            "|    episodes         | 32       |\n",
            "|    fps              | 216      |\n",
            "|    time_elapsed     | 14       |\n",
            "|    total_timesteps  | 3253     |\n",
            "| train/              |          |\n",
            "|    learning_rate    | 0.00063  |\n",
            "|    loss             | 2.3      |\n",
            "|    n_updates        | 3252     |\n",
            "----------------------------------\n",
            "----------------------------------\n",
            "| rollout/            |          |\n",
            "|    ep_len_mean      | 130      |\n",
            "|    ep_rew_mean      | -121     |\n",
            "|    exploration_rate | 0.649    |\n",
            "| time/               |          |\n",
            "|    episodes         | 36       |\n",
            "|    fps              | 210      |\n",
            "|    time_elapsed     | 22       |\n",
            "|    total_timesteps  | 4682     |\n",
            "| train/              |          |\n",
            "|    learning_rate    | 0.00063  |\n",
            "|    loss             | 2.39     |\n",
            "|    n_updates        | 4680     |\n",
            "----------------------------------\n",
            "----------------------------------\n",
            "| rollout/            |          |\n",
            "|    ep_len_mean      | 131      |\n",
            "|    ep_rew_mean      | -113     |\n",
            "|    exploration_rate | 0.608    |\n",
            "| time/               |          |\n",
            "|    episodes         | 40       |\n",
            "|    fps              | 210      |\n",
            "|    time_elapsed     | 24       |\n",
            "|    total_timesteps  | 5225     |\n",
            "| train/              |          |\n",
            "|    learning_rate    | 0.00063  |\n",
            "|    loss             | 1.44     |\n",
            "|    n_updates        | 5224     |\n",
            "----------------------------------\n",
            "----------------------------------\n",
            "| rollout/            |          |\n",
            "|    ep_len_mean      | 130      |\n",
            "|    ep_rew_mean      | -110     |\n",
            "|    exploration_rate | 0.57     |\n",
            "| time/               |          |\n",
            "|    episodes         | 44       |\n",
            "|    fps              | 209      |\n",
            "|    time_elapsed     | 27       |\n",
            "|    total_timesteps  | 5730     |\n",
            "| train/              |          |\n",
            "|    learning_rate    | 0.00063  |\n",
            "|    loss             | 2.55     |\n",
            "|    n_updates        | 5728     |\n",
            "----------------------------------\n",
            "----------------------------------\n",
            "| rollout/            |          |\n",
            "|    ep_len_mean      | 130      |\n",
            "|    ep_rew_mean      | -104     |\n",
            "|    exploration_rate | 0.53     |\n",
            "| time/               |          |\n",
            "|    episodes         | 48       |\n",
            "|    fps              | 210      |\n",
            "|    time_elapsed     | 29       |\n",
            "|    total_timesteps  | 6260     |\n",
            "| train/              |          |\n",
            "|    learning_rate    | 0.00063  |\n",
            "|    loss             | 2.36     |\n",
            "|    n_updates        | 6256     |\n",
            "----------------------------------\n",
            "----------------------------------\n",
            "| rollout/            |          |\n",
            "|    ep_len_mean      | 166      |\n",
            "|    ep_rew_mean      | -97.8    |\n",
            "|    exploration_rate | 0.352    |\n",
            "| time/               |          |\n",
            "|    episodes         | 52       |\n",
            "|    fps              | 201      |\n",
            "|    time_elapsed     | 42       |\n",
            "|    total_timesteps  | 8638     |\n",
            "| train/              |          |\n",
            "|    learning_rate    | 0.00063  |\n",
            "|    loss             | 2.82     |\n",
            "|    n_updates        | 8636     |\n",
            "----------------------------------\n",
            "----------------------------------\n",
            "| rollout/            |          |\n",
            "|    ep_len_mean      | 190      |\n",
            "|    ep_rew_mean      | -97.7    |\n",
            "|    exploration_rate | 0.203    |\n",
            "| time/               |          |\n",
            "|    episodes         | 56       |\n",
            "|    fps              | 195      |\n",
            "|    time_elapsed     | 54       |\n",
            "|    total_timesteps  | 10623    |\n",
            "| train/              |          |\n",
            "|    learning_rate    | 0.00063  |\n",
            "|    loss             | 1.92     |\n",
            "|    n_updates        | 10620    |\n",
            "----------------------------------\n",
            "----------------------------------\n",
            "| rollout/            |          |\n",
            "|    ep_len_mean      | 244      |\n",
            "|    ep_rew_mean      | -93      |\n",
            "|    exploration_rate | 0.1      |\n",
            "| time/               |          |\n",
            "|    episodes         | 60       |\n",
            "|    fps              | 189      |\n",
            "|    time_elapsed     | 77       |\n",
            "|    total_timesteps  | 14623    |\n",
            "| train/              |          |\n",
            "|    learning_rate    | 0.00063  |\n",
            "|    loss             | 1.36     |\n",
            "|    n_updates        | 14620    |\n",
            "----------------------------------\n",
            "----------------------------------\n",
            "| rollout/            |          |\n",
            "|    ep_len_mean      | 291      |\n",
            "|    ep_rew_mean      | -86.7    |\n",
            "|    exploration_rate | 0.1      |\n",
            "| time/               |          |\n",
            "|    episodes         | 64       |\n",
            "|    fps              | 186      |\n",
            "|    time_elapsed     | 99       |\n",
            "|    total_timesteps  | 18623    |\n",
            "| train/              |          |\n",
            "|    learning_rate    | 0.00063  |\n",
            "|    loss             | 1.03     |\n",
            "|    n_updates        | 18620    |\n",
            "----------------------------------\n"
          ]
        }
      ]
    },
    {
      "cell_type": "markdown",
      "source": [
        "Visualization"
      ],
      "metadata": {
        "id": "Z8TtMw0QBZn0"
      },
      "id": "Z8TtMw0QBZn0"
    },
    {
      "cell_type": "code",
      "source": [
        "# 학습된 모델 불러오기\n",
        "model = DQN.load(\"dqn_lunarlander\", env=env)\n",
        "env = gym.make('LunarLander-v2')\n",
        "env = Monitor(env, './video', force=True)\n",
        "\n",
        "rewards = 0.0\n",
        "\n",
        "ob, done = env.reset(), False\n",
        "while not done:\n",
        "    action, _ = model.predict(ob)\n",
        "    ob, reward, done, info = env.step(action)\n",
        "    rewards += reward\n",
        "env.close()\n",
        "\n",
        "print(f\"\\nEpisode Finished! Reward: {rewards:.1f}.\")\n",
        "show_video()"
      ],
      "metadata": {
        "colab": {
          "base_uri": "https://localhost:8080/",
          "height": 446
        },
        "id": "5XhQ6JqHBYq0",
        "outputId": "5bfb7796-00d9-44a7-8727-3b771f3350c9"
      },
      "id": "5XhQ6JqHBYq0",
      "execution_count": null,
      "outputs": [
        {
          "output_type": "error",
          "ename": "FileNotFoundError",
          "evalue": "ignored",
          "traceback": [
            "\u001b[0;31m---------------------------------------------------------------------------\u001b[0m",
            "\u001b[0;31mFileNotFoundError\u001b[0m                         Traceback (most recent call last)",
            "\u001b[0;32m<ipython-input-6-5e06d57318c3>\u001b[0m in \u001b[0;36m<module>\u001b[0;34m\u001b[0m\n\u001b[1;32m      1\u001b[0m \u001b[0;31m# 학습된 모델 불러오기\u001b[0m\u001b[0;34m\u001b[0m\u001b[0;34m\u001b[0m\u001b[0;34m\u001b[0m\u001b[0m\n\u001b[0;32m----> 2\u001b[0;31m \u001b[0mmodel\u001b[0m \u001b[0;34m=\u001b[0m \u001b[0mDQN\u001b[0m\u001b[0;34m.\u001b[0m\u001b[0mload\u001b[0m\u001b[0;34m(\u001b[0m\u001b[0;34m\"dqn_lunarlander\"\u001b[0m\u001b[0;34m,\u001b[0m \u001b[0menv\u001b[0m\u001b[0;34m=\u001b[0m\u001b[0menv\u001b[0m\u001b[0;34m)\u001b[0m\u001b[0;34m\u001b[0m\u001b[0;34m\u001b[0m\u001b[0m\n\u001b[0m\u001b[1;32m      3\u001b[0m \u001b[0menv\u001b[0m \u001b[0;34m=\u001b[0m \u001b[0mgym\u001b[0m\u001b[0;34m.\u001b[0m\u001b[0mmake\u001b[0m\u001b[0;34m(\u001b[0m\u001b[0;34m'LunarLander-v2'\u001b[0m\u001b[0;34m)\u001b[0m\u001b[0;34m\u001b[0m\u001b[0;34m\u001b[0m\u001b[0m\n\u001b[1;32m      4\u001b[0m \u001b[0menv\u001b[0m \u001b[0;34m=\u001b[0m \u001b[0mMonitor\u001b[0m\u001b[0;34m(\u001b[0m\u001b[0menv\u001b[0m\u001b[0;34m,\u001b[0m \u001b[0;34m'./video'\u001b[0m\u001b[0;34m,\u001b[0m \u001b[0mforce\u001b[0m\u001b[0;34m=\u001b[0m\u001b[0;32mTrue\u001b[0m\u001b[0;34m)\u001b[0m\u001b[0;34m\u001b[0m\u001b[0;34m\u001b[0m\u001b[0m\n\u001b[1;32m      5\u001b[0m \u001b[0;34m\u001b[0m\u001b[0m\n",
            "\u001b[0;32m/usr/local/lib/python3.7/dist-packages/stable_baselines3/common/base_class.py\u001b[0m in \u001b[0;36mload\u001b[0;34m(cls, path, env, device, custom_objects, print_system_info, force_reset, **kwargs)\u001b[0m\n\u001b[1;32m    759\u001b[0m             \u001b[0mdevice\u001b[0m\u001b[0;34m=\u001b[0m\u001b[0mdevice\u001b[0m\u001b[0;34m,\u001b[0m\u001b[0;34m\u001b[0m\u001b[0;34m\u001b[0m\u001b[0m\n\u001b[1;32m    760\u001b[0m             \u001b[0mcustom_objects\u001b[0m\u001b[0;34m=\u001b[0m\u001b[0mcustom_objects\u001b[0m\u001b[0;34m,\u001b[0m\u001b[0;34m\u001b[0m\u001b[0;34m\u001b[0m\u001b[0m\n\u001b[0;32m--> 761\u001b[0;31m             \u001b[0mprint_system_info\u001b[0m\u001b[0;34m=\u001b[0m\u001b[0mprint_system_info\u001b[0m\u001b[0;34m,\u001b[0m\u001b[0;34m\u001b[0m\u001b[0;34m\u001b[0m\u001b[0m\n\u001b[0m\u001b[1;32m    762\u001b[0m         )\n\u001b[1;32m    763\u001b[0m \u001b[0;34m\u001b[0m\u001b[0m\n",
            "\u001b[0;32m/usr/local/lib/python3.7/dist-packages/stable_baselines3/common/save_util.py\u001b[0m in \u001b[0;36mload_from_zip_file\u001b[0;34m(load_path, load_data, custom_objects, device, verbose, print_system_info)\u001b[0m\n\u001b[1;32m    386\u001b[0m         \u001b[0;32mand\u001b[0m \u001b[0mdict\u001b[0m \u001b[0mof\u001b[0m \u001b[0mpytorch\u001b[0m \u001b[0mvariables\u001b[0m\u001b[0;34m\u001b[0m\u001b[0;34m\u001b[0m\u001b[0m\n\u001b[1;32m    387\u001b[0m     \"\"\"\n\u001b[0;32m--> 388\u001b[0;31m     \u001b[0mload_path\u001b[0m \u001b[0;34m=\u001b[0m \u001b[0mopen_path\u001b[0m\u001b[0;34m(\u001b[0m\u001b[0mload_path\u001b[0m\u001b[0;34m,\u001b[0m \u001b[0;34m\"r\"\u001b[0m\u001b[0;34m,\u001b[0m \u001b[0mverbose\u001b[0m\u001b[0;34m=\u001b[0m\u001b[0mverbose\u001b[0m\u001b[0;34m,\u001b[0m \u001b[0msuffix\u001b[0m\u001b[0;34m=\u001b[0m\u001b[0;34m\"zip\"\u001b[0m\u001b[0;34m)\u001b[0m\u001b[0;34m\u001b[0m\u001b[0;34m\u001b[0m\u001b[0m\n\u001b[0m\u001b[1;32m    389\u001b[0m \u001b[0;34m\u001b[0m\u001b[0m\n\u001b[1;32m    390\u001b[0m     \u001b[0;31m# set device to cpu if cuda is not available\u001b[0m\u001b[0;34m\u001b[0m\u001b[0;34m\u001b[0m\u001b[0;34m\u001b[0m\u001b[0m\n",
            "\u001b[0;32m/usr/lib/python3.7/functools.py\u001b[0m in \u001b[0;36mwrapper\u001b[0;34m(*args, **kw)\u001b[0m\n\u001b[1;32m    838\u001b[0m                             '1 positional argument')\n\u001b[1;32m    839\u001b[0m \u001b[0;34m\u001b[0m\u001b[0m\n\u001b[0;32m--> 840\u001b[0;31m         \u001b[0;32mreturn\u001b[0m \u001b[0mdispatch\u001b[0m\u001b[0;34m(\u001b[0m\u001b[0margs\u001b[0m\u001b[0;34m[\u001b[0m\u001b[0;36m0\u001b[0m\u001b[0;34m]\u001b[0m\u001b[0;34m.\u001b[0m\u001b[0m__class__\u001b[0m\u001b[0;34m)\u001b[0m\u001b[0;34m(\u001b[0m\u001b[0;34m*\u001b[0m\u001b[0margs\u001b[0m\u001b[0;34m,\u001b[0m \u001b[0;34m**\u001b[0m\u001b[0mkw\u001b[0m\u001b[0;34m)\u001b[0m\u001b[0;34m\u001b[0m\u001b[0;34m\u001b[0m\u001b[0m\n\u001b[0m\u001b[1;32m    841\u001b[0m \u001b[0;34m\u001b[0m\u001b[0m\n\u001b[1;32m    842\u001b[0m     \u001b[0mfuncname\u001b[0m \u001b[0;34m=\u001b[0m \u001b[0mgetattr\u001b[0m\u001b[0;34m(\u001b[0m\u001b[0mfunc\u001b[0m\u001b[0;34m,\u001b[0m \u001b[0;34m'__name__'\u001b[0m\u001b[0;34m,\u001b[0m \u001b[0;34m'singledispatch function'\u001b[0m\u001b[0;34m)\u001b[0m\u001b[0;34m\u001b[0m\u001b[0;34m\u001b[0m\u001b[0m\n",
            "\u001b[0;32m/usr/local/lib/python3.7/dist-packages/stable_baselines3/common/save_util.py\u001b[0m in \u001b[0;36mopen_path_str\u001b[0;34m(path, mode, verbose, suffix)\u001b[0m\n\u001b[1;32m    230\u001b[0m     \u001b[0;34m:\u001b[0m\u001b[0;32mreturn\u001b[0m\u001b[0;34m:\u001b[0m\u001b[0;34m\u001b[0m\u001b[0;34m\u001b[0m\u001b[0m\n\u001b[1;32m    231\u001b[0m     \"\"\"\n\u001b[0;32m--> 232\u001b[0;31m     \u001b[0;32mreturn\u001b[0m \u001b[0mopen_path\u001b[0m\u001b[0;34m(\u001b[0m\u001b[0mpathlib\u001b[0m\u001b[0;34m.\u001b[0m\u001b[0mPath\u001b[0m\u001b[0;34m(\u001b[0m\u001b[0mpath\u001b[0m\u001b[0;34m)\u001b[0m\u001b[0;34m,\u001b[0m \u001b[0mmode\u001b[0m\u001b[0;34m,\u001b[0m \u001b[0mverbose\u001b[0m\u001b[0;34m,\u001b[0m \u001b[0msuffix\u001b[0m\u001b[0;34m)\u001b[0m\u001b[0;34m\u001b[0m\u001b[0;34m\u001b[0m\u001b[0m\n\u001b[0m\u001b[1;32m    233\u001b[0m \u001b[0;34m\u001b[0m\u001b[0m\n\u001b[1;32m    234\u001b[0m \u001b[0;34m\u001b[0m\u001b[0m\n",
            "\u001b[0;32m/usr/lib/python3.7/functools.py\u001b[0m in \u001b[0;36mwrapper\u001b[0;34m(*args, **kw)\u001b[0m\n\u001b[1;32m    838\u001b[0m                             '1 positional argument')\n\u001b[1;32m    839\u001b[0m \u001b[0;34m\u001b[0m\u001b[0m\n\u001b[0;32m--> 840\u001b[0;31m         \u001b[0;32mreturn\u001b[0m \u001b[0mdispatch\u001b[0m\u001b[0;34m(\u001b[0m\u001b[0margs\u001b[0m\u001b[0;34m[\u001b[0m\u001b[0;36m0\u001b[0m\u001b[0;34m]\u001b[0m\u001b[0;34m.\u001b[0m\u001b[0m__class__\u001b[0m\u001b[0;34m)\u001b[0m\u001b[0;34m(\u001b[0m\u001b[0;34m*\u001b[0m\u001b[0margs\u001b[0m\u001b[0;34m,\u001b[0m \u001b[0;34m**\u001b[0m\u001b[0mkw\u001b[0m\u001b[0;34m)\u001b[0m\u001b[0;34m\u001b[0m\u001b[0;34m\u001b[0m\u001b[0m\n\u001b[0m\u001b[1;32m    841\u001b[0m \u001b[0;34m\u001b[0m\u001b[0m\n\u001b[1;32m    842\u001b[0m     \u001b[0mfuncname\u001b[0m \u001b[0;34m=\u001b[0m \u001b[0mgetattr\u001b[0m\u001b[0;34m(\u001b[0m\u001b[0mfunc\u001b[0m\u001b[0;34m,\u001b[0m \u001b[0;34m'__name__'\u001b[0m\u001b[0;34m,\u001b[0m \u001b[0;34m'singledispatch function'\u001b[0m\u001b[0;34m)\u001b[0m\u001b[0;34m\u001b[0m\u001b[0;34m\u001b[0m\u001b[0m\n",
            "\u001b[0;32m/usr/local/lib/python3.7/dist-packages/stable_baselines3/common/save_util.py\u001b[0m in \u001b[0;36mopen_path_pathlib\u001b[0;34m(path, mode, verbose, suffix)\u001b[0m\n\u001b[1;32m    282\u001b[0m     \u001b[0;31m# if reading failed with FileNotFoundError, calls open_path_pathlib with suffix\u001b[0m\u001b[0;34m\u001b[0m\u001b[0;34m\u001b[0m\u001b[0;34m\u001b[0m\u001b[0m\n\u001b[1;32m    283\u001b[0m \u001b[0;34m\u001b[0m\u001b[0m\n\u001b[0;32m--> 284\u001b[0;31m     \u001b[0;32mreturn\u001b[0m \u001b[0mopen_path\u001b[0m\u001b[0;34m(\u001b[0m\u001b[0mpath\u001b[0m\u001b[0;34m,\u001b[0m \u001b[0mmode\u001b[0m\u001b[0;34m,\u001b[0m \u001b[0mverbose\u001b[0m\u001b[0;34m,\u001b[0m \u001b[0msuffix\u001b[0m\u001b[0;34m)\u001b[0m\u001b[0;34m\u001b[0m\u001b[0;34m\u001b[0m\u001b[0m\n\u001b[0m\u001b[1;32m    285\u001b[0m \u001b[0;34m\u001b[0m\u001b[0m\n\u001b[1;32m    286\u001b[0m \u001b[0;34m\u001b[0m\u001b[0m\n",
            "\u001b[0;32m/usr/lib/python3.7/functools.py\u001b[0m in \u001b[0;36mwrapper\u001b[0;34m(*args, **kw)\u001b[0m\n\u001b[1;32m    838\u001b[0m                             '1 positional argument')\n\u001b[1;32m    839\u001b[0m \u001b[0;34m\u001b[0m\u001b[0m\n\u001b[0;32m--> 840\u001b[0;31m         \u001b[0;32mreturn\u001b[0m \u001b[0mdispatch\u001b[0m\u001b[0;34m(\u001b[0m\u001b[0margs\u001b[0m\u001b[0;34m[\u001b[0m\u001b[0;36m0\u001b[0m\u001b[0;34m]\u001b[0m\u001b[0;34m.\u001b[0m\u001b[0m__class__\u001b[0m\u001b[0;34m)\u001b[0m\u001b[0;34m(\u001b[0m\u001b[0;34m*\u001b[0m\u001b[0margs\u001b[0m\u001b[0;34m,\u001b[0m \u001b[0;34m**\u001b[0m\u001b[0mkw\u001b[0m\u001b[0;34m)\u001b[0m\u001b[0;34m\u001b[0m\u001b[0;34m\u001b[0m\u001b[0m\n\u001b[0m\u001b[1;32m    841\u001b[0m \u001b[0;34m\u001b[0m\u001b[0m\n\u001b[1;32m    842\u001b[0m     \u001b[0mfuncname\u001b[0m \u001b[0;34m=\u001b[0m \u001b[0mgetattr\u001b[0m\u001b[0;34m(\u001b[0m\u001b[0mfunc\u001b[0m\u001b[0;34m,\u001b[0m \u001b[0;34m'__name__'\u001b[0m\u001b[0;34m,\u001b[0m \u001b[0;34m'singledispatch function'\u001b[0m\u001b[0;34m)\u001b[0m\u001b[0;34m\u001b[0m\u001b[0;34m\u001b[0m\u001b[0m\n",
            "\u001b[0;32m/usr/local/lib/python3.7/dist-packages/stable_baselines3/common/save_util.py\u001b[0m in \u001b[0;36mopen_path_pathlib\u001b[0;34m(path, mode, verbose, suffix)\u001b[0m\n\u001b[1;32m    262\u001b[0m                 \u001b[0mpath\u001b[0m\u001b[0;34m,\u001b[0m \u001b[0msuffix\u001b[0m \u001b[0;34m=\u001b[0m \u001b[0mnewpath\u001b[0m\u001b[0;34m,\u001b[0m \u001b[0;32mNone\u001b[0m\u001b[0;34m\u001b[0m\u001b[0;34m\u001b[0m\u001b[0m\n\u001b[1;32m    263\u001b[0m             \u001b[0;32melse\u001b[0m\u001b[0;34m:\u001b[0m\u001b[0;34m\u001b[0m\u001b[0;34m\u001b[0m\u001b[0m\n\u001b[0;32m--> 264\u001b[0;31m                 \u001b[0;32mraise\u001b[0m \u001b[0merror\u001b[0m\u001b[0;34m\u001b[0m\u001b[0;34m\u001b[0m\u001b[0m\n\u001b[0m\u001b[1;32m    265\u001b[0m     \u001b[0;32melse\u001b[0m\u001b[0;34m:\u001b[0m\u001b[0;34m\u001b[0m\u001b[0;34m\u001b[0m\u001b[0m\n\u001b[1;32m    266\u001b[0m         \u001b[0;32mtry\u001b[0m\u001b[0;34m:\u001b[0m\u001b[0;34m\u001b[0m\u001b[0;34m\u001b[0m\u001b[0m\n",
            "\u001b[0;32m/usr/local/lib/python3.7/dist-packages/stable_baselines3/common/save_util.py\u001b[0m in \u001b[0;36mopen_path_pathlib\u001b[0;34m(path, mode, verbose, suffix)\u001b[0m\n\u001b[1;32m    254\u001b[0m     \u001b[0;32mif\u001b[0m \u001b[0mmode\u001b[0m \u001b[0;34m==\u001b[0m \u001b[0;34m\"r\"\u001b[0m\u001b[0;34m:\u001b[0m\u001b[0;34m\u001b[0m\u001b[0;34m\u001b[0m\u001b[0m\n\u001b[1;32m    255\u001b[0m         \u001b[0;32mtry\u001b[0m\u001b[0;34m:\u001b[0m\u001b[0;34m\u001b[0m\u001b[0;34m\u001b[0m\u001b[0m\n\u001b[0;32m--> 256\u001b[0;31m             \u001b[0mpath\u001b[0m \u001b[0;34m=\u001b[0m \u001b[0mpath\u001b[0m\u001b[0;34m.\u001b[0m\u001b[0mopen\u001b[0m\u001b[0;34m(\u001b[0m\u001b[0;34m\"rb\"\u001b[0m\u001b[0;34m)\u001b[0m\u001b[0;34m\u001b[0m\u001b[0;34m\u001b[0m\u001b[0m\n\u001b[0m\u001b[1;32m    257\u001b[0m         \u001b[0;32mexcept\u001b[0m \u001b[0mFileNotFoundError\u001b[0m \u001b[0;32mas\u001b[0m \u001b[0merror\u001b[0m\u001b[0;34m:\u001b[0m\u001b[0;34m\u001b[0m\u001b[0;34m\u001b[0m\u001b[0m\n\u001b[1;32m    258\u001b[0m             \u001b[0;32mif\u001b[0m \u001b[0msuffix\u001b[0m \u001b[0;32mis\u001b[0m \u001b[0;32mnot\u001b[0m \u001b[0;32mNone\u001b[0m \u001b[0;32mand\u001b[0m \u001b[0msuffix\u001b[0m \u001b[0;34m!=\u001b[0m \u001b[0;34m\"\"\u001b[0m\u001b[0;34m:\u001b[0m\u001b[0;34m\u001b[0m\u001b[0;34m\u001b[0m\u001b[0m\n",
            "\u001b[0;32m/usr/lib/python3.7/pathlib.py\u001b[0m in \u001b[0;36mopen\u001b[0;34m(self, mode, buffering, encoding, errors, newline)\u001b[0m\n\u001b[1;32m   1206\u001b[0m             \u001b[0mself\u001b[0m\u001b[0;34m.\u001b[0m\u001b[0m_raise_closed\u001b[0m\u001b[0;34m(\u001b[0m\u001b[0;34m)\u001b[0m\u001b[0;34m\u001b[0m\u001b[0;34m\u001b[0m\u001b[0m\n\u001b[1;32m   1207\u001b[0m         return io.open(self, mode, buffering, encoding, errors, newline,\n\u001b[0;32m-> 1208\u001b[0;31m                        opener=self._opener)\n\u001b[0m\u001b[1;32m   1209\u001b[0m \u001b[0;34m\u001b[0m\u001b[0m\n\u001b[1;32m   1210\u001b[0m     \u001b[0;32mdef\u001b[0m \u001b[0mread_bytes\u001b[0m\u001b[0;34m(\u001b[0m\u001b[0mself\u001b[0m\u001b[0;34m)\u001b[0m\u001b[0;34m:\u001b[0m\u001b[0;34m\u001b[0m\u001b[0;34m\u001b[0m\u001b[0m\n",
            "\u001b[0;32m/usr/lib/python3.7/pathlib.py\u001b[0m in \u001b[0;36m_opener\u001b[0;34m(self, name, flags, mode)\u001b[0m\n\u001b[1;32m   1061\u001b[0m     \u001b[0;32mdef\u001b[0m \u001b[0m_opener\u001b[0m\u001b[0;34m(\u001b[0m\u001b[0mself\u001b[0m\u001b[0;34m,\u001b[0m \u001b[0mname\u001b[0m\u001b[0;34m,\u001b[0m \u001b[0mflags\u001b[0m\u001b[0;34m,\u001b[0m \u001b[0mmode\u001b[0m\u001b[0;34m=\u001b[0m\u001b[0;36m0o666\u001b[0m\u001b[0;34m)\u001b[0m\u001b[0;34m:\u001b[0m\u001b[0;34m\u001b[0m\u001b[0;34m\u001b[0m\u001b[0m\n\u001b[1;32m   1062\u001b[0m         \u001b[0;31m# A stub for the opener argument to built-in open()\u001b[0m\u001b[0;34m\u001b[0m\u001b[0;34m\u001b[0m\u001b[0;34m\u001b[0m\u001b[0m\n\u001b[0;32m-> 1063\u001b[0;31m         \u001b[0;32mreturn\u001b[0m \u001b[0mself\u001b[0m\u001b[0;34m.\u001b[0m\u001b[0m_accessor\u001b[0m\u001b[0;34m.\u001b[0m\u001b[0mopen\u001b[0m\u001b[0;34m(\u001b[0m\u001b[0mself\u001b[0m\u001b[0;34m,\u001b[0m \u001b[0mflags\u001b[0m\u001b[0;34m,\u001b[0m \u001b[0mmode\u001b[0m\u001b[0;34m)\u001b[0m\u001b[0;34m\u001b[0m\u001b[0;34m\u001b[0m\u001b[0m\n\u001b[0m\u001b[1;32m   1064\u001b[0m \u001b[0;34m\u001b[0m\u001b[0m\n\u001b[1;32m   1065\u001b[0m     \u001b[0;32mdef\u001b[0m \u001b[0m_raw_open\u001b[0m\u001b[0;34m(\u001b[0m\u001b[0mself\u001b[0m\u001b[0;34m,\u001b[0m \u001b[0mflags\u001b[0m\u001b[0;34m,\u001b[0m \u001b[0mmode\u001b[0m\u001b[0;34m=\u001b[0m\u001b[0;36m0o777\u001b[0m\u001b[0;34m)\u001b[0m\u001b[0;34m:\u001b[0m\u001b[0;34m\u001b[0m\u001b[0;34m\u001b[0m\u001b[0m\n",
            "\u001b[0;31mFileNotFoundError\u001b[0m: [Errno 2] No such file or directory: 'dqn_lunarlander.zip'"
          ]
        }
      ]
    }
  ],
  "metadata": {
    "kernelspec": {
      "display_name": "Python [conda env:dt]",
      "language": "python",
      "name": "conda-env-dt-py"
    },
    "language_info": {
      "codemirror_mode": {
        "name": "ipython",
        "version": 3
      },
      "file_extension": ".py",
      "mimetype": "text/x-python",
      "name": "python",
      "nbconvert_exporter": "python",
      "pygments_lexer": "ipython3",
      "version": "3.8.12"
    },
    "colab": {
      "provenance": [],
      "include_colab_link": true
    }
  },
  "nbformat": 4,
  "nbformat_minor": 5
}